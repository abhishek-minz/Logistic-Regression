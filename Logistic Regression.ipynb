{
 "cells": [
  {
   "cell_type": "code",
   "execution_count": 1,
   "id": "5fc4bafc",
   "metadata": {},
   "outputs": [
    {
     "name": "stderr",
     "output_type": "stream",
     "text": [
      "Loading required package: ggplot2\n",
      "\n",
      "Loading required package: lattice\n",
      "\n",
      "── \u001b[1mAttaching packages\u001b[22m ─────────────────────────────────────── tidyverse 1.3.2 ──\n",
      "\u001b[32m✔\u001b[39m \u001b[34mtibble \u001b[39m 3.1.8      \u001b[32m✔\u001b[39m \u001b[34mdplyr  \u001b[39m 1.0.10\n",
      "\u001b[32m✔\u001b[39m \u001b[34mtidyr  \u001b[39m 1.2.1      \u001b[32m✔\u001b[39m \u001b[34mstringr\u001b[39m 1.5.0 \n",
      "\u001b[32m✔\u001b[39m \u001b[34mreadr  \u001b[39m 2.1.3      \u001b[32m✔\u001b[39m \u001b[34mforcats\u001b[39m 0.5.2 \n",
      "\u001b[32m✔\u001b[39m \u001b[34mpurrr  \u001b[39m 0.3.4      \n",
      "── \u001b[1mConflicts\u001b[22m ────────────────────────────────────────── tidyverse_conflicts() ──\n",
      "\u001b[31m✖\u001b[39m \u001b[34mdplyr\u001b[39m::\u001b[32mfilter()\u001b[39m masks \u001b[34mstats\u001b[39m::filter()\n",
      "\u001b[31m✖\u001b[39m \u001b[34mdplyr\u001b[39m::\u001b[32mlag()\u001b[39m    masks \u001b[34mstats\u001b[39m::lag()\n",
      "\u001b[31m✖\u001b[39m \u001b[34mpurrr\u001b[39m::\u001b[32mlift()\u001b[39m   masks \u001b[34mcaret\u001b[39m::lift()\n"
     ]
    }
   ],
   "source": [
    "library(caret) #For downsampling\n",
    "library(caTools) #To split our data\n",
    "library(tidyverse)\n",
    "library(gmodels)"
   ]
  },
  {
   "cell_type": "code",
   "execution_count": 2,
   "id": "1cef0f9d",
   "metadata": {},
   "outputs": [],
   "source": [
    "data <- read.csv('bank.csv')"
   ]
  },
  {
   "cell_type": "code",
   "execution_count": 3,
   "id": "cb56332c",
   "metadata": {},
   "outputs": [
    {
     "data": {
      "text/html": [
       "<table class=\"dataframe\">\n",
       "<caption>A data.frame: 6 × 17</caption>\n",
       "<thead>\n",
       "\t<tr><th></th><th scope=col>age</th><th scope=col>job</th><th scope=col>marital</th><th scope=col>education</th><th scope=col>default</th><th scope=col>balance</th><th scope=col>housing</th><th scope=col>loan</th><th scope=col>contact</th><th scope=col>day</th><th scope=col>month</th><th scope=col>duration</th><th scope=col>campaign</th><th scope=col>pdays</th><th scope=col>previous</th><th scope=col>poutcome</th><th scope=col>y</th></tr>\n",
       "\t<tr><th></th><th scope=col>&lt;int&gt;</th><th scope=col>&lt;chr&gt;</th><th scope=col>&lt;chr&gt;</th><th scope=col>&lt;chr&gt;</th><th scope=col>&lt;chr&gt;</th><th scope=col>&lt;int&gt;</th><th scope=col>&lt;chr&gt;</th><th scope=col>&lt;chr&gt;</th><th scope=col>&lt;chr&gt;</th><th scope=col>&lt;int&gt;</th><th scope=col>&lt;chr&gt;</th><th scope=col>&lt;int&gt;</th><th scope=col>&lt;int&gt;</th><th scope=col>&lt;int&gt;</th><th scope=col>&lt;int&gt;</th><th scope=col>&lt;chr&gt;</th><th scope=col>&lt;chr&gt;</th></tr>\n",
       "</thead>\n",
       "<tbody>\n",
       "\t<tr><th scope=row>1</th><td>58</td><td>management  </td><td>married</td><td>tertiary </td><td>no</td><td>2143</td><td>yes</td><td>no </td><td>unknown</td><td>5</td><td>may</td><td>261</td><td>1</td><td>-1</td><td>0</td><td>unknown</td><td>no</td></tr>\n",
       "\t<tr><th scope=row>2</th><td>44</td><td>technician  </td><td>single </td><td>secondary</td><td>no</td><td>  29</td><td>yes</td><td>no </td><td>unknown</td><td>5</td><td>may</td><td>151</td><td>1</td><td>-1</td><td>0</td><td>unknown</td><td>no</td></tr>\n",
       "\t<tr><th scope=row>3</th><td>33</td><td>entrepreneur</td><td>married</td><td>secondary</td><td>no</td><td>   2</td><td>yes</td><td>yes</td><td>unknown</td><td>5</td><td>may</td><td> 76</td><td>1</td><td>-1</td><td>0</td><td>unknown</td><td>no</td></tr>\n",
       "\t<tr><th scope=row>4</th><td>47</td><td>blue-collar </td><td>married</td><td>unknown  </td><td>no</td><td>1506</td><td>yes</td><td>no </td><td>unknown</td><td>5</td><td>may</td><td> 92</td><td>1</td><td>-1</td><td>0</td><td>unknown</td><td>no</td></tr>\n",
       "\t<tr><th scope=row>5</th><td>33</td><td>unknown     </td><td>single </td><td>unknown  </td><td>no</td><td>   1</td><td>no </td><td>no </td><td>unknown</td><td>5</td><td>may</td><td>198</td><td>1</td><td>-1</td><td>0</td><td>unknown</td><td>no</td></tr>\n",
       "\t<tr><th scope=row>6</th><td>35</td><td>management  </td><td>married</td><td>tertiary </td><td>no</td><td> 231</td><td>yes</td><td>no </td><td>unknown</td><td>5</td><td>may</td><td>139</td><td>1</td><td>-1</td><td>0</td><td>unknown</td><td>no</td></tr>\n",
       "</tbody>\n",
       "</table>\n"
      ],
      "text/latex": [
       "A data.frame: 6 × 17\n",
       "\\begin{tabular}{r|lllllllllllllllll}\n",
       "  & age & job & marital & education & default & balance & housing & loan & contact & day & month & duration & campaign & pdays & previous & poutcome & y\\\\\n",
       "  & <int> & <chr> & <chr> & <chr> & <chr> & <int> & <chr> & <chr> & <chr> & <int> & <chr> & <int> & <int> & <int> & <int> & <chr> & <chr>\\\\\n",
       "\\hline\n",
       "\t1 & 58 & management   & married & tertiary  & no & 2143 & yes & no  & unknown & 5 & may & 261 & 1 & -1 & 0 & unknown & no\\\\\n",
       "\t2 & 44 & technician   & single  & secondary & no &   29 & yes & no  & unknown & 5 & may & 151 & 1 & -1 & 0 & unknown & no\\\\\n",
       "\t3 & 33 & entrepreneur & married & secondary & no &    2 & yes & yes & unknown & 5 & may &  76 & 1 & -1 & 0 & unknown & no\\\\\n",
       "\t4 & 47 & blue-collar  & married & unknown   & no & 1506 & yes & no  & unknown & 5 & may &  92 & 1 & -1 & 0 & unknown & no\\\\\n",
       "\t5 & 33 & unknown      & single  & unknown   & no &    1 & no  & no  & unknown & 5 & may & 198 & 1 & -1 & 0 & unknown & no\\\\\n",
       "\t6 & 35 & management   & married & tertiary  & no &  231 & yes & no  & unknown & 5 & may & 139 & 1 & -1 & 0 & unknown & no\\\\\n",
       "\\end{tabular}\n"
      ],
      "text/markdown": [
       "\n",
       "A data.frame: 6 × 17\n",
       "\n",
       "| <!--/--> | age &lt;int&gt; | job &lt;chr&gt; | marital &lt;chr&gt; | education &lt;chr&gt; | default &lt;chr&gt; | balance &lt;int&gt; | housing &lt;chr&gt; | loan &lt;chr&gt; | contact &lt;chr&gt; | day &lt;int&gt; | month &lt;chr&gt; | duration &lt;int&gt; | campaign &lt;int&gt; | pdays &lt;int&gt; | previous &lt;int&gt; | poutcome &lt;chr&gt; | y &lt;chr&gt; |\n",
       "|---|---|---|---|---|---|---|---|---|---|---|---|---|---|---|---|---|---|\n",
       "| 1 | 58 | management   | married | tertiary  | no | 2143 | yes | no  | unknown | 5 | may | 261 | 1 | -1 | 0 | unknown | no |\n",
       "| 2 | 44 | technician   | single  | secondary | no |   29 | yes | no  | unknown | 5 | may | 151 | 1 | -1 | 0 | unknown | no |\n",
       "| 3 | 33 | entrepreneur | married | secondary | no |    2 | yes | yes | unknown | 5 | may |  76 | 1 | -1 | 0 | unknown | no |\n",
       "| 4 | 47 | blue-collar  | married | unknown   | no | 1506 | yes | no  | unknown | 5 | may |  92 | 1 | -1 | 0 | unknown | no |\n",
       "| 5 | 33 | unknown      | single  | unknown   | no |    1 | no  | no  | unknown | 5 | may | 198 | 1 | -1 | 0 | unknown | no |\n",
       "| 6 | 35 | management   | married | tertiary  | no |  231 | yes | no  | unknown | 5 | may | 139 | 1 | -1 | 0 | unknown | no |\n",
       "\n"
      ],
      "text/plain": [
       "  age job          marital education default balance housing loan contact day\n",
       "1 58  management   married tertiary  no      2143    yes     no   unknown 5  \n",
       "2 44  technician   single  secondary no        29    yes     no   unknown 5  \n",
       "3 33  entrepreneur married secondary no         2    yes     yes  unknown 5  \n",
       "4 47  blue-collar  married unknown   no      1506    yes     no   unknown 5  \n",
       "5 33  unknown      single  unknown   no         1    no      no   unknown 5  \n",
       "6 35  management   married tertiary  no       231    yes     no   unknown 5  \n",
       "  month duration campaign pdays previous poutcome y \n",
       "1 may   261      1        -1    0        unknown  no\n",
       "2 may   151      1        -1    0        unknown  no\n",
       "3 may    76      1        -1    0        unknown  no\n",
       "4 may    92      1        -1    0        unknown  no\n",
       "5 may   198      1        -1    0        unknown  no\n",
       "6 may   139      1        -1    0        unknown  no"
      ]
     },
     "metadata": {},
     "output_type": "display_data"
    }
   ],
   "source": [
    "head(data)"
   ]
  },
  {
   "cell_type": "code",
   "execution_count": 4,
   "id": "360bcb21",
   "metadata": {},
   "outputs": [
    {
     "name": "stdout",
     "output_type": "stream",
     "text": [
      "'data.frame':\t45211 obs. of  17 variables:\n",
      " $ age      : int  58 44 33 47 33 35 28 42 58 43 ...\n",
      " $ job      : chr  \"management\" \"technician\" \"entrepreneur\" \"blue-collar\" ...\n",
      " $ marital  : chr  \"married\" \"single\" \"married\" \"married\" ...\n",
      " $ education: chr  \"tertiary\" \"secondary\" \"secondary\" \"unknown\" ...\n",
      " $ default  : chr  \"no\" \"no\" \"no\" \"no\" ...\n",
      " $ balance  : int  2143 29 2 1506 1 231 447 2 121 593 ...\n",
      " $ housing  : chr  \"yes\" \"yes\" \"yes\" \"yes\" ...\n",
      " $ loan     : chr  \"no\" \"no\" \"yes\" \"no\" ...\n",
      " $ contact  : chr  \"unknown\" \"unknown\" \"unknown\" \"unknown\" ...\n",
      " $ day      : int  5 5 5 5 5 5 5 5 5 5 ...\n",
      " $ month    : chr  \"may\" \"may\" \"may\" \"may\" ...\n",
      " $ duration : int  261 151 76 92 198 139 217 380 50 55 ...\n",
      " $ campaign : int  1 1 1 1 1 1 1 1 1 1 ...\n",
      " $ pdays    : int  -1 -1 -1 -1 -1 -1 -1 -1 -1 -1 ...\n",
      " $ previous : int  0 0 0 0 0 0 0 0 0 0 ...\n",
      " $ poutcome : chr  \"unknown\" \"unknown\" \"unknown\" \"unknown\" ...\n",
      " $ y        : chr  \"no\" \"no\" \"no\" \"no\" ...\n"
     ]
    }
   ],
   "source": [
    "str(data)"
   ]
  },
  {
   "cell_type": "code",
   "execution_count": 5,
   "id": "2446ad94",
   "metadata": {},
   "outputs": [],
   "source": [
    "data$job<-as.factor(data$job)\n",
    "data$marital<-as.factor(data$marital)\n",
    "data$education<-as.factor(data$education)\n",
    "data$default<-as.factor(data$default)\n",
    "data$housing<-as.factor(data$housing)\n",
    "data$loan<-as.factor(data$loan)\n",
    "data$contact<-as.factor(data$contact)\n",
    "data$month<-as.factor(data$month)\n",
    "data$poutcome<-as.factor(data$poutcome)\n",
    "data$y<-as.factor(data$y)"
   ]
  },
  {
   "cell_type": "code",
   "execution_count": 6,
   "id": "f3760349",
   "metadata": {},
   "outputs": [],
   "source": [
    "#Dataframe with only customers who bought\n",
    "data_yes<-subset(data, y == 'yes')"
   ]
  },
  {
   "cell_type": "code",
   "execution_count": 7,
   "id": "dcad81f7",
   "metadata": {},
   "outputs": [],
   "source": [
    "#Dataframe with only nos\n",
    "data_no<-subset(data, y == 'no')"
   ]
  },
  {
   "cell_type": "code",
   "execution_count": 8,
   "id": "8d8eb9cd",
   "metadata": {},
   "outputs": [
    {
     "data": {
      "text/html": [
       "<table class=\"dataframe\">\n",
       "<caption>A data.frame: 6 × 17</caption>\n",
       "<thead>\n",
       "\t<tr><th></th><th scope=col>age</th><th scope=col>job</th><th scope=col>marital</th><th scope=col>education</th><th scope=col>default</th><th scope=col>balance</th><th scope=col>housing</th><th scope=col>loan</th><th scope=col>contact</th><th scope=col>day</th><th scope=col>month</th><th scope=col>duration</th><th scope=col>campaign</th><th scope=col>pdays</th><th scope=col>previous</th><th scope=col>poutcome</th><th scope=col>y</th></tr>\n",
       "\t<tr><th></th><th scope=col>&lt;int&gt;</th><th scope=col>&lt;fct&gt;</th><th scope=col>&lt;fct&gt;</th><th scope=col>&lt;fct&gt;</th><th scope=col>&lt;fct&gt;</th><th scope=col>&lt;int&gt;</th><th scope=col>&lt;fct&gt;</th><th scope=col>&lt;fct&gt;</th><th scope=col>&lt;fct&gt;</th><th scope=col>&lt;int&gt;</th><th scope=col>&lt;fct&gt;</th><th scope=col>&lt;int&gt;</th><th scope=col>&lt;int&gt;</th><th scope=col>&lt;int&gt;</th><th scope=col>&lt;int&gt;</th><th scope=col>&lt;fct&gt;</th><th scope=col>&lt;fct&gt;</th></tr>\n",
       "</thead>\n",
       "<tbody>\n",
       "\t<tr><th scope=row>84</th><td>59</td><td>admin.    </td><td>married</td><td>secondary</td><td>no</td><td>2343</td><td>yes</td><td>no </td><td>unknown</td><td>5</td><td>may</td><td>1042</td><td>1</td><td>-1</td><td>0</td><td>unknown</td><td>yes</td></tr>\n",
       "\t<tr><th scope=row>87</th><td>56</td><td>admin.    </td><td>married</td><td>secondary</td><td>no</td><td>  45</td><td>no </td><td>no </td><td>unknown</td><td>5</td><td>may</td><td>1467</td><td>1</td><td>-1</td><td>0</td><td>unknown</td><td>yes</td></tr>\n",
       "\t<tr><th scope=row>88</th><td>41</td><td>technician</td><td>married</td><td>secondary</td><td>no</td><td>1270</td><td>yes</td><td>no </td><td>unknown</td><td>5</td><td>may</td><td>1389</td><td>1</td><td>-1</td><td>0</td><td>unknown</td><td>yes</td></tr>\n",
       "\t<tr><th scope=row>130</th><td>55</td><td>services  </td><td>married</td><td>secondary</td><td>no</td><td>2476</td><td>yes</td><td>no </td><td>unknown</td><td>5</td><td>may</td><td> 579</td><td>1</td><td>-1</td><td>0</td><td>unknown</td><td>yes</td></tr>\n",
       "\t<tr><th scope=row>169</th><td>54</td><td>admin.    </td><td>married</td><td>tertiary </td><td>no</td><td> 184</td><td>no </td><td>no </td><td>unknown</td><td>5</td><td>may</td><td> 673</td><td>2</td><td>-1</td><td>0</td><td>unknown</td><td>yes</td></tr>\n",
       "\t<tr><th scope=row>271</th><td>42</td><td>management</td><td>single </td><td>tertiary </td><td>no</td><td>   0</td><td>yes</td><td>yes</td><td>unknown</td><td>5</td><td>may</td><td> 562</td><td>2</td><td>-1</td><td>0</td><td>unknown</td><td>yes</td></tr>\n",
       "</tbody>\n",
       "</table>\n"
      ],
      "text/latex": [
       "A data.frame: 6 × 17\n",
       "\\begin{tabular}{r|lllllllllllllllll}\n",
       "  & age & job & marital & education & default & balance & housing & loan & contact & day & month & duration & campaign & pdays & previous & poutcome & y\\\\\n",
       "  & <int> & <fct> & <fct> & <fct> & <fct> & <int> & <fct> & <fct> & <fct> & <int> & <fct> & <int> & <int> & <int> & <int> & <fct> & <fct>\\\\\n",
       "\\hline\n",
       "\t84 & 59 & admin.     & married & secondary & no & 2343 & yes & no  & unknown & 5 & may & 1042 & 1 & -1 & 0 & unknown & yes\\\\\n",
       "\t87 & 56 & admin.     & married & secondary & no &   45 & no  & no  & unknown & 5 & may & 1467 & 1 & -1 & 0 & unknown & yes\\\\\n",
       "\t88 & 41 & technician & married & secondary & no & 1270 & yes & no  & unknown & 5 & may & 1389 & 1 & -1 & 0 & unknown & yes\\\\\n",
       "\t130 & 55 & services   & married & secondary & no & 2476 & yes & no  & unknown & 5 & may &  579 & 1 & -1 & 0 & unknown & yes\\\\\n",
       "\t169 & 54 & admin.     & married & tertiary  & no &  184 & no  & no  & unknown & 5 & may &  673 & 2 & -1 & 0 & unknown & yes\\\\\n",
       "\t271 & 42 & management & single  & tertiary  & no &    0 & yes & yes & unknown & 5 & may &  562 & 2 & -1 & 0 & unknown & yes\\\\\n",
       "\\end{tabular}\n"
      ],
      "text/markdown": [
       "\n",
       "A data.frame: 6 × 17\n",
       "\n",
       "| <!--/--> | age &lt;int&gt; | job &lt;fct&gt; | marital &lt;fct&gt; | education &lt;fct&gt; | default &lt;fct&gt; | balance &lt;int&gt; | housing &lt;fct&gt; | loan &lt;fct&gt; | contact &lt;fct&gt; | day &lt;int&gt; | month &lt;fct&gt; | duration &lt;int&gt; | campaign &lt;int&gt; | pdays &lt;int&gt; | previous &lt;int&gt; | poutcome &lt;fct&gt; | y &lt;fct&gt; |\n",
       "|---|---|---|---|---|---|---|---|---|---|---|---|---|---|---|---|---|---|\n",
       "| 84 | 59 | admin.     | married | secondary | no | 2343 | yes | no  | unknown | 5 | may | 1042 | 1 | -1 | 0 | unknown | yes |\n",
       "| 87 | 56 | admin.     | married | secondary | no |   45 | no  | no  | unknown | 5 | may | 1467 | 1 | -1 | 0 | unknown | yes |\n",
       "| 88 | 41 | technician | married | secondary | no | 1270 | yes | no  | unknown | 5 | may | 1389 | 1 | -1 | 0 | unknown | yes |\n",
       "| 130 | 55 | services   | married | secondary | no | 2476 | yes | no  | unknown | 5 | may |  579 | 1 | -1 | 0 | unknown | yes |\n",
       "| 169 | 54 | admin.     | married | tertiary  | no |  184 | no  | no  | unknown | 5 | may |  673 | 2 | -1 | 0 | unknown | yes |\n",
       "| 271 | 42 | management | single  | tertiary  | no |    0 | yes | yes | unknown | 5 | may |  562 | 2 | -1 | 0 | unknown | yes |\n",
       "\n"
      ],
      "text/plain": [
       "    age job        marital education default balance housing loan contact day\n",
       "84  59  admin.     married secondary no      2343    yes     no   unknown 5  \n",
       "87  56  admin.     married secondary no        45    no      no   unknown 5  \n",
       "88  41  technician married secondary no      1270    yes     no   unknown 5  \n",
       "130 55  services   married secondary no      2476    yes     no   unknown 5  \n",
       "169 54  admin.     married tertiary  no       184    no      no   unknown 5  \n",
       "271 42  management single  tertiary  no         0    yes     yes  unknown 5  \n",
       "    month duration campaign pdays previous poutcome y  \n",
       "84  may   1042     1        -1    0        unknown  yes\n",
       "87  may   1467     1        -1    0        unknown  yes\n",
       "88  may   1389     1        -1    0        unknown  yes\n",
       "130 may    579     1        -1    0        unknown  yes\n",
       "169 may    673     2        -1    0        unknown  yes\n",
       "271 may    562     2        -1    0        unknown  yes"
      ]
     },
     "metadata": {},
     "output_type": "display_data"
    },
    {
     "data": {
      "text/html": [
       "5289"
      ],
      "text/latex": [
       "5289"
      ],
      "text/markdown": [
       "5289"
      ],
      "text/plain": [
       "[1] 5289"
      ]
     },
     "metadata": {},
     "output_type": "display_data"
    }
   ],
   "source": [
    "head(data_yes)\n",
    "length(data_yes$y)"
   ]
  },
  {
   "cell_type": "code",
   "execution_count": 9,
   "id": "615e331b",
   "metadata": {},
   "outputs": [
    {
     "data": {
      "text/html": [
       "<table class=\"dataframe\">\n",
       "<caption>A data.frame: 6 × 17</caption>\n",
       "<thead>\n",
       "\t<tr><th></th><th scope=col>age</th><th scope=col>job</th><th scope=col>marital</th><th scope=col>education</th><th scope=col>default</th><th scope=col>balance</th><th scope=col>housing</th><th scope=col>loan</th><th scope=col>contact</th><th scope=col>day</th><th scope=col>month</th><th scope=col>duration</th><th scope=col>campaign</th><th scope=col>pdays</th><th scope=col>previous</th><th scope=col>poutcome</th><th scope=col>y</th></tr>\n",
       "\t<tr><th></th><th scope=col>&lt;int&gt;</th><th scope=col>&lt;fct&gt;</th><th scope=col>&lt;fct&gt;</th><th scope=col>&lt;fct&gt;</th><th scope=col>&lt;fct&gt;</th><th scope=col>&lt;int&gt;</th><th scope=col>&lt;fct&gt;</th><th scope=col>&lt;fct&gt;</th><th scope=col>&lt;fct&gt;</th><th scope=col>&lt;int&gt;</th><th scope=col>&lt;fct&gt;</th><th scope=col>&lt;int&gt;</th><th scope=col>&lt;int&gt;</th><th scope=col>&lt;int&gt;</th><th scope=col>&lt;int&gt;</th><th scope=col>&lt;fct&gt;</th><th scope=col>&lt;fct&gt;</th></tr>\n",
       "</thead>\n",
       "<tbody>\n",
       "\t<tr><th scope=row>1</th><td>58</td><td>management  </td><td>married</td><td>tertiary </td><td>no</td><td>2143</td><td>yes</td><td>no </td><td>unknown</td><td>5</td><td>may</td><td>261</td><td>1</td><td>-1</td><td>0</td><td>unknown</td><td>no</td></tr>\n",
       "\t<tr><th scope=row>2</th><td>44</td><td>technician  </td><td>single </td><td>secondary</td><td>no</td><td>  29</td><td>yes</td><td>no </td><td>unknown</td><td>5</td><td>may</td><td>151</td><td>1</td><td>-1</td><td>0</td><td>unknown</td><td>no</td></tr>\n",
       "\t<tr><th scope=row>3</th><td>33</td><td>entrepreneur</td><td>married</td><td>secondary</td><td>no</td><td>   2</td><td>yes</td><td>yes</td><td>unknown</td><td>5</td><td>may</td><td> 76</td><td>1</td><td>-1</td><td>0</td><td>unknown</td><td>no</td></tr>\n",
       "\t<tr><th scope=row>4</th><td>47</td><td>blue-collar </td><td>married</td><td>unknown  </td><td>no</td><td>1506</td><td>yes</td><td>no </td><td>unknown</td><td>5</td><td>may</td><td> 92</td><td>1</td><td>-1</td><td>0</td><td>unknown</td><td>no</td></tr>\n",
       "\t<tr><th scope=row>5</th><td>33</td><td>unknown     </td><td>single </td><td>unknown  </td><td>no</td><td>   1</td><td>no </td><td>no </td><td>unknown</td><td>5</td><td>may</td><td>198</td><td>1</td><td>-1</td><td>0</td><td>unknown</td><td>no</td></tr>\n",
       "\t<tr><th scope=row>6</th><td>35</td><td>management  </td><td>married</td><td>tertiary </td><td>no</td><td> 231</td><td>yes</td><td>no </td><td>unknown</td><td>5</td><td>may</td><td>139</td><td>1</td><td>-1</td><td>0</td><td>unknown</td><td>no</td></tr>\n",
       "</tbody>\n",
       "</table>\n"
      ],
      "text/latex": [
       "A data.frame: 6 × 17\n",
       "\\begin{tabular}{r|lllllllllllllllll}\n",
       "  & age & job & marital & education & default & balance & housing & loan & contact & day & month & duration & campaign & pdays & previous & poutcome & y\\\\\n",
       "  & <int> & <fct> & <fct> & <fct> & <fct> & <int> & <fct> & <fct> & <fct> & <int> & <fct> & <int> & <int> & <int> & <int> & <fct> & <fct>\\\\\n",
       "\\hline\n",
       "\t1 & 58 & management   & married & tertiary  & no & 2143 & yes & no  & unknown & 5 & may & 261 & 1 & -1 & 0 & unknown & no\\\\\n",
       "\t2 & 44 & technician   & single  & secondary & no &   29 & yes & no  & unknown & 5 & may & 151 & 1 & -1 & 0 & unknown & no\\\\\n",
       "\t3 & 33 & entrepreneur & married & secondary & no &    2 & yes & yes & unknown & 5 & may &  76 & 1 & -1 & 0 & unknown & no\\\\\n",
       "\t4 & 47 & blue-collar  & married & unknown   & no & 1506 & yes & no  & unknown & 5 & may &  92 & 1 & -1 & 0 & unknown & no\\\\\n",
       "\t5 & 33 & unknown      & single  & unknown   & no &    1 & no  & no  & unknown & 5 & may & 198 & 1 & -1 & 0 & unknown & no\\\\\n",
       "\t6 & 35 & management   & married & tertiary  & no &  231 & yes & no  & unknown & 5 & may & 139 & 1 & -1 & 0 & unknown & no\\\\\n",
       "\\end{tabular}\n"
      ],
      "text/markdown": [
       "\n",
       "A data.frame: 6 × 17\n",
       "\n",
       "| <!--/--> | age &lt;int&gt; | job &lt;fct&gt; | marital &lt;fct&gt; | education &lt;fct&gt; | default &lt;fct&gt; | balance &lt;int&gt; | housing &lt;fct&gt; | loan &lt;fct&gt; | contact &lt;fct&gt; | day &lt;int&gt; | month &lt;fct&gt; | duration &lt;int&gt; | campaign &lt;int&gt; | pdays &lt;int&gt; | previous &lt;int&gt; | poutcome &lt;fct&gt; | y &lt;fct&gt; |\n",
       "|---|---|---|---|---|---|---|---|---|---|---|---|---|---|---|---|---|---|\n",
       "| 1 | 58 | management   | married | tertiary  | no | 2143 | yes | no  | unknown | 5 | may | 261 | 1 | -1 | 0 | unknown | no |\n",
       "| 2 | 44 | technician   | single  | secondary | no |   29 | yes | no  | unknown | 5 | may | 151 | 1 | -1 | 0 | unknown | no |\n",
       "| 3 | 33 | entrepreneur | married | secondary | no |    2 | yes | yes | unknown | 5 | may |  76 | 1 | -1 | 0 | unknown | no |\n",
       "| 4 | 47 | blue-collar  | married | unknown   | no | 1506 | yes | no  | unknown | 5 | may |  92 | 1 | -1 | 0 | unknown | no |\n",
       "| 5 | 33 | unknown      | single  | unknown   | no |    1 | no  | no  | unknown | 5 | may | 198 | 1 | -1 | 0 | unknown | no |\n",
       "| 6 | 35 | management   | married | tertiary  | no |  231 | yes | no  | unknown | 5 | may | 139 | 1 | -1 | 0 | unknown | no |\n",
       "\n"
      ],
      "text/plain": [
       "  age job          marital education default balance housing loan contact day\n",
       "1 58  management   married tertiary  no      2143    yes     no   unknown 5  \n",
       "2 44  technician   single  secondary no        29    yes     no   unknown 5  \n",
       "3 33  entrepreneur married secondary no         2    yes     yes  unknown 5  \n",
       "4 47  blue-collar  married unknown   no      1506    yes     no   unknown 5  \n",
       "5 33  unknown      single  unknown   no         1    no      no   unknown 5  \n",
       "6 35  management   married tertiary  no       231    yes     no   unknown 5  \n",
       "  month duration campaign pdays previous poutcome y \n",
       "1 may   261      1        -1    0        unknown  no\n",
       "2 may   151      1        -1    0        unknown  no\n",
       "3 may    76      1        -1    0        unknown  no\n",
       "4 may    92      1        -1    0        unknown  no\n",
       "5 may   198      1        -1    0        unknown  no\n",
       "6 may   139      1        -1    0        unknown  no"
      ]
     },
     "metadata": {},
     "output_type": "display_data"
    },
    {
     "data": {
      "text/html": [
       "39922"
      ],
      "text/latex": [
       "39922"
      ],
      "text/markdown": [
       "39922"
      ],
      "text/plain": [
       "[1] 39922"
      ]
     },
     "metadata": {},
     "output_type": "display_data"
    }
   ],
   "source": [
    "head(data_no)\n",
    "length(data_no$y)"
   ]
  },
  {
   "cell_type": "code",
   "execution_count": 10,
   "id": "83d018e4",
   "metadata": {},
   "outputs": [],
   "source": [
    "set.seed(1)\n",
    "data_yes_downsampled<- data_yes %>% slice_sample(n = 5000) #Randomly selcting 5000 rows\n",
    "data_no_downsampled<- data_no %>% slice_sample(n = 5000)"
   ]
  },
  {
   "cell_type": "code",
   "execution_count": 11,
   "id": "e8f93388",
   "metadata": {},
   "outputs": [],
   "source": [
    "data_downsampled<-rbind(data_yes_downsampled,data_no_downsampled)"
   ]
  },
  {
   "cell_type": "code",
   "execution_count": 12,
   "id": "40d8d174",
   "metadata": {},
   "outputs": [],
   "source": [
    "#Randomly mixing the dataframe\n",
    "set.seed(1)\n",
    "data_downsampled<- data_downsampled %>% slice_sample(n = 10000) "
   ]
  },
  {
   "cell_type": "code",
   "execution_count": 13,
   "id": "2d2aa7e2",
   "metadata": {},
   "outputs": [],
   "source": [
    "#Splitting into training and testing\n",
    "set.seed(1)\n",
    "index = sample.split(Y = data_downsampled$y, SplitRatio = 0.7)\n",
    "\n",
    "#subsetting into Train data\n",
    "data_downsampled_train = data_downsampled[index,]\n",
    "\n",
    "#subsetting into Test data\n",
    "data_downsampled_test = data_downsampled[!index,]"
   ]
  },
  {
   "cell_type": "code",
   "execution_count": 14,
   "id": "3ed8dc9d",
   "metadata": {},
   "outputs": [
    {
     "data": {
      "text/plain": [
       "\n",
       "  no  yes \n",
       "3500 3500 "
      ]
     },
     "metadata": {},
     "output_type": "display_data"
    },
    {
     "data": {
      "text/plain": [
       "\n",
       "  no  yes \n",
       "1500 1500 "
      ]
     },
     "metadata": {},
     "output_type": "display_data"
    }
   ],
   "source": [
    "table(data_downsampled_train$y)\n",
    "table(data_downsampled_test$y)\n",
    "#A balanced train and test dataset"
   ]
  },
  {
   "cell_type": "code",
   "execution_count": 15,
   "id": "284a7979",
   "metadata": {},
   "outputs": [
    {
     "name": "stdout",
     "output_type": "stream",
     "text": [
      "'data.frame':\t7000 obs. of  17 variables:\n",
      " $ age      : int  29 55 33 49 37 57 53 26 45 33 ...\n",
      " $ job      : Factor w/ 12 levels \"admin.\",\"blue-collar\",..: 7 2 7 7 10 1 5 2 2 10 ...\n",
      " $ marital  : Factor w/ 3 levels \"divorced\",\"married\",..: 3 2 3 2 2 1 2 3 2 2 ...\n",
      " $ education: Factor w/ 4 levels \"primary\",\"secondary\",..: 3 1 3 3 2 2 3 2 1 2 ...\n",
      " $ default  : Factor w/ 2 levels \"no\",\"yes\": 1 1 1 1 1 1 1 1 2 1 ...\n",
      " $ balance  : int  121 2102 61 503 277 658 -670 26 153 79 ...\n",
      " $ housing  : Factor w/ 2 levels \"no\",\"yes\": 2 2 1 2 2 1 1 2 1 1 ...\n",
      " $ loan     : Factor w/ 2 levels \"no\",\"yes\": 1 1 1 1 1 1 2 2 2 1 ...\n",
      " $ contact  : Factor w/ 3 levels \"cellular\",\"telephone\",..: 3 1 1 1 1 1 1 1 1 1 ...\n",
      " $ day      : int  30 12 19 6 4 10 11 15 18 29 ...\n",
      " $ month    : Factor w/ 12 levels \"apr\",\"aug\",\"dec\",..: 9 9 2 4 4 6 6 9 6 2 ...\n",
      " $ duration : int  1500 64 836 310 244 724 86 899 706 144 ...\n",
      " $ campaign : int  2 4 3 4 2 1 2 1 9 3 ...\n",
      " $ pdays    : int  -1 371 -1 200 -1 -1 -1 -1 -1 -1 ...\n",
      " $ previous : int  0 1 0 1 0 0 0 0 0 0 ...\n",
      " $ poutcome : Factor w/ 4 levels \"failure\",\"other\",..: 4 1 4 1 4 4 4 4 4 4 ...\n",
      " $ y        : Factor w/ 2 levels \"no\",\"yes\": 2 1 2 1 1 2 1 2 1 1 ...\n"
     ]
    }
   ],
   "source": [
    "str(data_downsampled_train)"
   ]
  },
  {
   "cell_type": "markdown",
   "id": "c8f52f41",
   "metadata": {},
   "source": [
    "### Correlation"
   ]
  },
  {
   "cell_type": "code",
   "execution_count": 16,
   "id": "09b02dfb",
   "metadata": {},
   "outputs": [
    {
     "name": "stderr",
     "output_type": "stream",
     "text": [
      "corrplot 0.92 loaded\n",
      "\n"
     ]
    }
   ],
   "source": [
    "library(corrplot)"
   ]
  },
  {
   "cell_type": "code",
   "execution_count": 17,
   "id": "dab55b9d",
   "metadata": {},
   "outputs": [],
   "source": [
    "num_data <- data_downsampled_train[c('age','balance','duration','campaign','pdays','previous','day')]"
   ]
  },
  {
   "cell_type": "code",
   "execution_count": 18,
   "id": "b025e95c",
   "metadata": {},
   "outputs": [],
   "source": [
    "corr<-cor(num_data)"
   ]
  },
  {
   "cell_type": "code",
   "execution_count": 19,
   "id": "f20dc248",
   "metadata": {},
   "outputs": [
    {
     "data": {
      "text/html": [
       "<table class=\"dataframe\">\n",
       "<caption>A matrix: 7 × 7 of type dbl</caption>\n",
       "<thead>\n",
       "\t<tr><th></th><th scope=col>age</th><th scope=col>balance</th><th scope=col>duration</th><th scope=col>campaign</th><th scope=col>pdays</th><th scope=col>previous</th><th scope=col>day</th></tr>\n",
       "</thead>\n",
       "<tbody>\n",
       "\t<tr><th scope=row>age</th><td> 1.000000000</td><td> 0.11250241</td><td>-0.007573105</td><td>-0.004014905</td><td> 0.008928996</td><td> 0.01497492</td><td> 0.005636925</td></tr>\n",
       "\t<tr><th scope=row>balance</th><td> 0.112502407</td><td> 1.00000000</td><td> 0.014750612</td><td>-0.014736265</td><td> 0.014237265</td><td> 0.02201000</td><td> 0.012790291</td></tr>\n",
       "\t<tr><th scope=row>duration</th><td>-0.007573105</td><td> 0.01475061</td><td> 1.000000000</td><td>-0.042913822</td><td>-0.029778964</td><td>-0.01591181</td><td>-0.012486993</td></tr>\n",
       "\t<tr><th scope=row>campaign</th><td>-0.004014905</td><td>-0.01473626</td><td>-0.042913822</td><td> 1.000000000</td><td>-0.102756759</td><td>-0.05842126</td><td> 0.150939892</td></tr>\n",
       "\t<tr><th scope=row>pdays</th><td> 0.008928996</td><td> 0.01423726</td><td>-0.029778964</td><td>-0.102756759</td><td> 1.000000000</td><td> 0.52609528</td><td>-0.067235881</td></tr>\n",
       "\t<tr><th scope=row>previous</th><td> 0.014974922</td><td> 0.02201000</td><td>-0.015911811</td><td>-0.058421261</td><td> 0.526095283</td><td> 1.00000000</td><td>-0.063609166</td></tr>\n",
       "\t<tr><th scope=row>day</th><td> 0.005636925</td><td> 0.01279029</td><td>-0.012486993</td><td> 0.150939892</td><td>-0.067235881</td><td>-0.06360917</td><td> 1.000000000</td></tr>\n",
       "</tbody>\n",
       "</table>\n"
      ],
      "text/latex": [
       "A matrix: 7 × 7 of type dbl\n",
       "\\begin{tabular}{r|lllllll}\n",
       "  & age & balance & duration & campaign & pdays & previous & day\\\\\n",
       "\\hline\n",
       "\tage &  1.000000000 &  0.11250241 & -0.007573105 & -0.004014905 &  0.008928996 &  0.01497492 &  0.005636925\\\\\n",
       "\tbalance &  0.112502407 &  1.00000000 &  0.014750612 & -0.014736265 &  0.014237265 &  0.02201000 &  0.012790291\\\\\n",
       "\tduration & -0.007573105 &  0.01475061 &  1.000000000 & -0.042913822 & -0.029778964 & -0.01591181 & -0.012486993\\\\\n",
       "\tcampaign & -0.004014905 & -0.01473626 & -0.042913822 &  1.000000000 & -0.102756759 & -0.05842126 &  0.150939892\\\\\n",
       "\tpdays &  0.008928996 &  0.01423726 & -0.029778964 & -0.102756759 &  1.000000000 &  0.52609528 & -0.067235881\\\\\n",
       "\tprevious &  0.014974922 &  0.02201000 & -0.015911811 & -0.058421261 &  0.526095283 &  1.00000000 & -0.063609166\\\\\n",
       "\tday &  0.005636925 &  0.01279029 & -0.012486993 &  0.150939892 & -0.067235881 & -0.06360917 &  1.000000000\\\\\n",
       "\\end{tabular}\n"
      ],
      "text/markdown": [
       "\n",
       "A matrix: 7 × 7 of type dbl\n",
       "\n",
       "| <!--/--> | age | balance | duration | campaign | pdays | previous | day |\n",
       "|---|---|---|---|---|---|---|---|\n",
       "| age |  1.000000000 |  0.11250241 | -0.007573105 | -0.004014905 |  0.008928996 |  0.01497492 |  0.005636925 |\n",
       "| balance |  0.112502407 |  1.00000000 |  0.014750612 | -0.014736265 |  0.014237265 |  0.02201000 |  0.012790291 |\n",
       "| duration | -0.007573105 |  0.01475061 |  1.000000000 | -0.042913822 | -0.029778964 | -0.01591181 | -0.012486993 |\n",
       "| campaign | -0.004014905 | -0.01473626 | -0.042913822 |  1.000000000 | -0.102756759 | -0.05842126 |  0.150939892 |\n",
       "| pdays |  0.008928996 |  0.01423726 | -0.029778964 | -0.102756759 |  1.000000000 |  0.52609528 | -0.067235881 |\n",
       "| previous |  0.014974922 |  0.02201000 | -0.015911811 | -0.058421261 |  0.526095283 |  1.00000000 | -0.063609166 |\n",
       "| day |  0.005636925 |  0.01279029 | -0.012486993 |  0.150939892 | -0.067235881 | -0.06360917 |  1.000000000 |\n",
       "\n"
      ],
      "text/plain": [
       "         age          balance     duration     campaign     pdays       \n",
       "age       1.000000000  0.11250241 -0.007573105 -0.004014905  0.008928996\n",
       "balance   0.112502407  1.00000000  0.014750612 -0.014736265  0.014237265\n",
       "duration -0.007573105  0.01475061  1.000000000 -0.042913822 -0.029778964\n",
       "campaign -0.004014905 -0.01473626 -0.042913822  1.000000000 -0.102756759\n",
       "pdays     0.008928996  0.01423726 -0.029778964 -0.102756759  1.000000000\n",
       "previous  0.014974922  0.02201000 -0.015911811 -0.058421261  0.526095283\n",
       "day       0.005636925  0.01279029 -0.012486993  0.150939892 -0.067235881\n",
       "         previous    day         \n",
       "age       0.01497492  0.005636925\n",
       "balance   0.02201000  0.012790291\n",
       "duration -0.01591181 -0.012486993\n",
       "campaign -0.05842126  0.150939892\n",
       "pdays     0.52609528 -0.067235881\n",
       "previous  1.00000000 -0.063609166\n",
       "day      -0.06360917  1.000000000"
      ]
     },
     "metadata": {},
     "output_type": "display_data"
    }
   ],
   "source": [
    "corr"
   ]
  },
  {
   "cell_type": "code",
   "execution_count": 20,
   "id": "68a1d77b",
   "metadata": {},
   "outputs": [
    {
     "data": {
      "image/png": "[encoded data removed]",
      "text/plain": [
       "Plot with title \"\""
      ]
     },
     "metadata": {
      "image/png": {
       "height": 420,
       "width": 420
      }
     },
     "output_type": "display_data"
    }
   ],
   "source": [
    "corrplot(corr)"
   ]
  },
  {
   "cell_type": "code",
   "execution_count": 21,
   "id": "74c7f8d5",
   "metadata": {},
   "outputs": [
    {
     "data": {
      "image/png": "[encoded data removed]",
      "text/plain": [
       "Plot with title \"Histogram of data_downsampled_train$previous\""
      ]
     },
     "metadata": {
      "image/png": {
       "height": 420,
       "width": 420
      }
     },
     "output_type": "display_data"
    }
   ],
   "source": [
    "par(mfrow=c(2,3))\n",
    "hist(data_downsampled_train$age)\n",
    "hist(data_downsampled_train$balance)\n",
    "hist(data_downsampled_train$duration)\n",
    "hist(data_downsampled_train$campaign)\n",
    "hist(data_downsampled_train$pdays)\n",
    "hist(data_downsampled_train$previous)"
   ]
  },
  {
   "cell_type": "code",
   "execution_count": 22,
   "id": "ab7b1a4b",
   "metadata": {},
   "outputs": [
    {
     "data": {
      "image/png": "[encoded data removed]",
      "text/plain": [
       "plot without title"
      ]
     },
     "metadata": {
      "image/png": {
       "height": 420,
       "width": 420
      }
     },
     "output_type": "display_data"
    }
   ],
   "source": [
    "par(mfrow=c(2,3))\n",
    "boxplot(data_downsampled_train$age)\n",
    "boxplot(data_downsampled_train$balance)\n",
    "boxplot(data_downsampled_train$duration)\n",
    "boxplot(data_downsampled_train$campaign)\n",
    "boxplot(data_downsampled_train$pdays)\n",
    "boxplot(data_downsampled_train$previous)"
   ]
  },
  {
   "cell_type": "markdown",
   "id": "90c22ea0",
   "metadata": {},
   "source": [
    "### Model Building"
   ]
  },
  {
   "cell_type": "code",
   "execution_count": 23,
   "id": "e08a3399",
   "metadata": {},
   "outputs": [
    {
     "data": {
      "text/plain": [
       "\n",
       "Call:\n",
       "glm(formula = y ~ ., family = \"binomial\", data = data_downsampled_train)\n",
       "\n",
       "Deviance Residuals: \n",
       "    Min       1Q   Median       3Q      Max  \n",
       "-7.3386  -0.5707  -0.0286   0.5662   2.8532  \n",
       "\n",
       "Coefficients:\n",
       "                     Estimate Std. Error z value Pr(>|z|)    \n",
       "(Intercept)        -1.024e+00  3.457e-01  -2.962 0.003061 ** \n",
       "age                 3.848e-03  4.185e-03   0.919 0.357920    \n",
       "jobblue-collar     -3.169e-01  1.364e-01  -2.324 0.020124 *  \n",
       "jobentrepreneur    -2.814e-01  2.263e-01  -1.244 0.213636    \n",
       "jobhousemaid       -1.704e-01  2.406e-01  -0.708 0.478747    \n",
       "jobmanagement      -1.660e-01  1.403e-01  -1.183 0.236883    \n",
       "jobretired          3.279e-01  1.913e-01   1.714 0.086545 .  \n",
       "jobself-employed   -2.695e-01  2.102e-01  -1.282 0.199675    \n",
       "jobservices        -2.078e-01  1.597e-01  -1.301 0.193133    \n",
       "jobstudent          5.270e-01  2.206e-01   2.389 0.016902 *  \n",
       "jobtechnician      -1.729e-01  1.289e-01  -1.342 0.179667    \n",
       "jobunemployed      -2.082e-03  2.143e-01  -0.010 0.992251    \n",
       "jobunknown         -7.944e-01  4.493e-01  -1.768 0.077057 .  \n",
       "maritalmarried     -1.665e-01  1.106e-01  -1.505 0.132293    \n",
       "maritalsingle       1.486e-01  1.284e-01   1.157 0.247381    \n",
       "educationsecondary  3.492e-01  1.185e-01   2.946 0.003217 ** \n",
       "educationtertiary   5.389e-01  1.410e-01   3.823 0.000132 ***\n",
       "educationunknown    3.730e-01  1.970e-01   1.894 0.058238 .  \n",
       "defaultyes          2.792e-01  2.841e-01   0.983 0.325730    \n",
       "balance             3.781e-05  1.188e-05   3.184 0.001453 ** \n",
       "housingyes         -9.877e-01  8.165e-02 -12.097  < 2e-16 ***\n",
       "loanyes            -5.810e-01  1.084e-01  -5.358 8.41e-08 ***\n",
       "contacttelephone    2.622e-02  1.412e-01   0.186 0.852659    \n",
       "contactunknown     -1.660e+00  1.248e-01 -13.307  < 2e-16 ***\n",
       "day                 6.252e-03  4.588e-03   1.363 0.173009    \n",
       "monthaug           -9.764e-01  1.442e-01  -6.773 1.26e-11 ***\n",
       "monthdec            1.128e+00  4.793e-01   2.353 0.018619 *  \n",
       "monthfeb           -1.035e-01  1.653e-01  -0.626 0.531174    \n",
       "monthjan           -1.044e+00  2.250e-01  -4.641 3.47e-06 ***\n",
       "monthjul           -1.174e+00  1.459e-01  -8.045 8.64e-16 ***\n",
       "monthjun            2.599e-01  1.709e-01   1.521 0.128347    \n",
       "monthmar            2.361e+00  3.365e-01   7.016 2.29e-12 ***\n",
       "monthmay           -6.226e-01  1.397e-01  -4.456 8.36e-06 ***\n",
       "monthnov           -1.124e+00  1.580e-01  -7.115 1.12e-12 ***\n",
       "monthoct            1.466e+00  2.419e-01   6.059 1.37e-09 ***\n",
       "monthsep            6.782e-01  2.551e-01   2.659 0.007849 ** \n",
       "duration            6.045e-03  1.722e-04  35.114  < 2e-16 ***\n",
       "campaign           -8.642e-02  1.646e-02  -5.249 1.53e-07 ***\n",
       "pdays               2.378e-05  5.807e-04   0.041 0.967330    \n",
       "previous            1.076e-02  1.929e-02   0.558 0.576789    \n",
       "poutcomeother       2.104e-01  1.805e-01   1.166 0.243593    \n",
       "poutcomesuccess     2.419e+00  1.931e-01  12.527  < 2e-16 ***\n",
       "poutcomeunknown    -3.461e-01  1.841e-01  -1.880 0.060128 .  \n",
       "---\n",
       "Signif. codes:  0 '***' 0.001 '**' 0.01 '*' 0.05 '.' 0.1 ' ' 1\n",
       "\n",
       "(Dispersion parameter for binomial family taken to be 1)\n",
       "\n",
       "    Null deviance: 9704.1  on 6999  degrees of freedom\n",
       "Residual deviance: 5378.0  on 6957  degrees of freedom\n",
       "AIC: 5464\n",
       "\n",
       "Number of Fisher Scoring iterations: 6\n"
      ]
     },
     "metadata": {},
     "output_type": "display_data"
    }
   ],
   "source": [
    "#Logistic\n",
    "set.seed(1)\n",
    "model_glm = glm(y ~ ., family=\"binomial\",data = data_downsampled_train)\n",
    "summary(model_glm)\n",
    "# age, marital, default, day, pdays and previous are insignificant"
   ]
  },
  {
   "cell_type": "code",
   "execution_count": 24,
   "id": "eabe26ef",
   "metadata": {},
   "outputs": [
    {
     "name": "stderr",
     "output_type": "stream",
     "text": [
      "Loading required package: carData\n",
      "\n",
      "\n",
      "Attaching package: 'car'\n",
      "\n",
      "\n",
      "The following object is masked from 'package:dplyr':\n",
      "\n",
      "    recode\n",
      "\n",
      "\n",
      "The following object is masked from 'package:purrr':\n",
      "\n",
      "    some\n",
      "\n",
      "\n"
     ]
    }
   ],
   "source": [
    "library(car)"
   ]
  },
  {
   "cell_type": "code",
   "execution_count": 26,
   "id": "2fdad0d9",
   "metadata": {},
   "outputs": [
    {
     "data": {
      "text/plain": [
       "\n",
       "Call:\n",
       "glm(formula = y ~ . - age - marital - default - day - pdays - \n",
       "    previous, family = \"binomial\", data = data_downsampled_train)\n",
       "\n",
       "Deviance Residuals: \n",
       "    Min       1Q   Median       3Q      Max  \n",
       "-7.3623  -0.5699  -0.0304   0.5640   2.8004  \n",
       "\n",
       "Coefficients:\n",
       "                     Estimate Std. Error z value Pr(>|z|)    \n",
       "(Intercept)        -7.760e-01  2.093e-01  -3.707 0.000210 ***\n",
       "jobblue-collar     -3.479e-01  1.353e-01  -2.571 0.010136 *  \n",
       "jobentrepreneur    -3.237e-01  2.250e-01  -1.439 0.150201    \n",
       "jobhousemaid       -1.969e-01  2.387e-01  -0.825 0.409514    \n",
       "jobmanagement      -1.788e-01  1.397e-01  -1.280 0.200642    \n",
       "jobretired          3.432e-01  1.699e-01   2.021 0.043322 *  \n",
       "jobself-employed   -2.721e-01  2.091e-01  -1.301 0.193182    \n",
       "jobservices        -2.093e-01  1.592e-01  -1.314 0.188783    \n",
       "jobstudent          6.326e-01  2.119e-01   2.985 0.002836 ** \n",
       "jobtechnician      -1.611e-01  1.285e-01  -1.254 0.209816    \n",
       "jobunemployed      -2.162e-02  2.135e-01  -0.101 0.919343    \n",
       "jobunknown         -8.393e-01  4.473e-01  -1.876 0.060617 .  \n",
       "educationsecondary  3.552e-01  1.173e-01   3.028 0.002465 ** \n",
       "educationtertiary   5.674e-01  1.387e-01   4.091 4.29e-05 ***\n",
       "educationunknown    3.881e-01  1.967e-01   1.973 0.048482 *  \n",
       "balance             3.803e-05  1.179e-05   3.225 0.001260 ** \n",
       "housingyes         -1.004e+00  8.074e-02 -12.439  < 2e-16 ***\n",
       "loanyes            -5.807e-01  1.076e-01  -5.394 6.89e-08 ***\n",
       "contacttelephone    1.558e-02  1.389e-01   0.112 0.910700    \n",
       "contactunknown     -1.643e+00  1.232e-01 -13.337  < 2e-16 ***\n",
       "monthaug           -1.014e+00  1.426e-01  -7.112 1.15e-12 ***\n",
       "monthdec            1.112e+00  4.806e-01   2.313 0.020716 *  \n",
       "monthfeb           -1.463e-01  1.584e-01  -0.924 0.355729    \n",
       "monthjan           -9.917e-01  2.221e-01  -4.466 7.96e-06 ***\n",
       "monthjul           -1.182e+00  1.453e-01  -8.133 4.19e-16 ***\n",
       "monthjun            1.952e-01  1.645e-01   1.187 0.235365    \n",
       "monthmar            2.339e+00  3.360e-01   6.961 3.37e-12 ***\n",
       "monthmay           -6.376e-01  1.384e-01  -4.607 4.09e-06 ***\n",
       "monthnov           -1.133e+00  1.561e-01  -7.257 3.97e-13 ***\n",
       "monthoct            1.475e+00  2.411e-01   6.119 9.40e-10 ***\n",
       "monthsep            6.488e-01  2.531e-01   2.563 0.010368 *  \n",
       "duration            6.059e-03  1.721e-04  35.217  < 2e-16 ***\n",
       "campaign           -8.388e-02  1.628e-02  -5.154 2.55e-07 ***\n",
       "poutcomeother       2.391e-01  1.778e-01   1.345 0.178746    \n",
       "poutcomesuccess     2.420e+00  1.884e-01  12.847  < 2e-16 ***\n",
       "poutcomeunknown    -3.726e-01  1.066e-01  -3.494 0.000475 ***\n",
       "---\n",
       "Signif. codes:  0 '***' 0.001 '**' 0.01 '*' 0.05 '.' 0.1 ' ' 1\n",
       "\n",
       "(Dispersion parameter for binomial family taken to be 1)\n",
       "\n",
       "    Null deviance: 9704.1  on 6999  degrees of freedom\n",
       "Residual deviance: 5395.0  on 6964  degrees of freedom\n",
       "AIC: 5467\n",
       "\n",
       "Number of Fisher Scoring iterations: 7\n"
      ]
     },
     "metadata": {},
     "output_type": "display_data"
    }
   ],
   "source": [
    "set.seed(1)\n",
    "model_glm2 = glm(y ~ .- age-marital-default-day-pdays-previous, family=\"binomial\",data = data_downsampled_train)\n",
    "summary(model_glm2)"
   ]
  },
  {
   "cell_type": "code",
   "execution_count": 27,
   "id": "5497e7c3",
   "metadata": {},
   "outputs": [
    {
     "data": {
      "text/html": [
       "<table class=\"dataframe\">\n",
       "<caption>A matrix: 10 × 3 of type dbl</caption>\n",
       "<thead>\n",
       "\t<tr><th></th><th scope=col>GVIF</th><th scope=col>Df</th><th scope=col>GVIF^(1/(2*Df))</th></tr>\n",
       "</thead>\n",
       "<tbody>\n",
       "\t<tr><th scope=row>job</th><td>2.650408</td><td>11</td><td>1.045301</td></tr>\n",
       "\t<tr><th scope=row>education</th><td>2.287001</td><td> 3</td><td>1.147830</td></tr>\n",
       "\t<tr><th scope=row>balance</th><td>1.057595</td><td> 1</td><td>1.028394</td></tr>\n",
       "\t<tr><th scope=row>housing</th><td>1.379234</td><td> 1</td><td>1.174408</td></tr>\n",
       "\t<tr><th scope=row>loan</th><td>1.057957</td><td> 1</td><td>1.028571</td></tr>\n",
       "\t<tr><th scope=row>contact</th><td>1.833042</td><td> 2</td><td>1.163572</td></tr>\n",
       "\t<tr><th scope=row>month</th><td>2.473173</td><td>11</td><td>1.042018</td></tr>\n",
       "\t<tr><th scope=row>duration</th><td>1.247018</td><td> 1</td><td>1.116700</td></tr>\n",
       "\t<tr><th scope=row>campaign</th><td>1.076460</td><td> 1</td><td>1.037526</td></tr>\n",
       "\t<tr><th scope=row>poutcome</th><td>1.194498</td><td> 3</td><td>1.030064</td></tr>\n",
       "</tbody>\n",
       "</table>\n"
      ],
      "text/latex": [
       "A matrix: 10 × 3 of type dbl\n",
       "\\begin{tabular}{r|lll}\n",
       "  & GVIF & Df & GVIF\\textasciicircum{}(1/(2*Df))\\\\\n",
       "\\hline\n",
       "\tjob & 2.650408 & 11 & 1.045301\\\\\n",
       "\teducation & 2.287001 &  3 & 1.147830\\\\\n",
       "\tbalance & 1.057595 &  1 & 1.028394\\\\\n",
       "\thousing & 1.379234 &  1 & 1.174408\\\\\n",
       "\tloan & 1.057957 &  1 & 1.028571\\\\\n",
       "\tcontact & 1.833042 &  2 & 1.163572\\\\\n",
       "\tmonth & 2.473173 & 11 & 1.042018\\\\\n",
       "\tduration & 1.247018 &  1 & 1.116700\\\\\n",
       "\tcampaign & 1.076460 &  1 & 1.037526\\\\\n",
       "\tpoutcome & 1.194498 &  3 & 1.030064\\\\\n",
       "\\end{tabular}\n"
      ],
      "text/markdown": [
       "\n",
       "A matrix: 10 × 3 of type dbl\n",
       "\n",
       "| <!--/--> | GVIF | Df | GVIF^(1/(2*Df)) |\n",
       "|---|---|---|---|\n",
       "| job | 2.650408 | 11 | 1.045301 |\n",
       "| education | 2.287001 |  3 | 1.147830 |\n",
       "| balance | 1.057595 |  1 | 1.028394 |\n",
       "| housing | 1.379234 |  1 | 1.174408 |\n",
       "| loan | 1.057957 |  1 | 1.028571 |\n",
       "| contact | 1.833042 |  2 | 1.163572 |\n",
       "| month | 2.473173 | 11 | 1.042018 |\n",
       "| duration | 1.247018 |  1 | 1.116700 |\n",
       "| campaign | 1.076460 |  1 | 1.037526 |\n",
       "| poutcome | 1.194498 |  3 | 1.030064 |\n",
       "\n"
      ],
      "text/plain": [
       "          GVIF     Df GVIF^(1/(2*Df))\n",
       "job       2.650408 11 1.045301       \n",
       "education 2.287001  3 1.147830       \n",
       "balance   1.057595  1 1.028394       \n",
       "housing   1.379234  1 1.174408       \n",
       "loan      1.057957  1 1.028571       \n",
       "contact   1.833042  2 1.163572       \n",
       "month     2.473173 11 1.042018       \n",
       "duration  1.247018  1 1.116700       \n",
       "campaign  1.076460  1 1.037526       \n",
       "poutcome  1.194498  3 1.030064       "
      ]
     },
     "metadata": {},
     "output_type": "display_data"
    }
   ],
   "source": [
    "vif(model_glm2)\n",
    "#No multicollenearity"
   ]
  },
  {
   "cell_type": "code",
   "execution_count": 28,
   "id": "401b9996",
   "metadata": {},
   "outputs": [
    {
     "data": {
      "image/png": "[encoded data removed]",
      "text/plain": [
       "Plot with title \"\""
      ]
     },
     "metadata": {
      "image/png": {
       "height": 420,
       "width": 420
      }
     },
     "output_type": "display_data"
    }
   ],
   "source": [
    "par(mfrow=c(2,2)) \n",
    "plot(model_glm2)"
   ]
  },
  {
   "cell_type": "code",
   "execution_count": 29,
   "id": "c7914bee",
   "metadata": {},
   "outputs": [],
   "source": [
    "library(aod)"
   ]
  },
  {
   "cell_type": "code",
   "execution_count": 30,
   "id": "1e9ad732",
   "metadata": {},
   "outputs": [
    {
     "data": {
      "text/html": [
       "<style>\n",
       ".dl-inline {width: auto; margin:0; padding: 0}\n",
       ".dl-inline>dt, .dl-inline>dd {float: none; width: auto; display: inline-block}\n",
       ".dl-inline>dt::after {content: \":\\0020\"; padding-right: .5ex}\n",
       ".dl-inline>dt:not(:first-of-type) {padding-left: .5ex}\n",
       "</style><dl class=dl-inline><dt>(Intercept)</dt><dd>-0.775960760925433</dd><dt>jobblue-collar</dt><dd>-0.347873818803064</dd><dt>jobentrepreneur</dt><dd>-0.32369607794374</dd><dt>jobhousemaid</dt><dd>-0.196883102672698</dd><dt>jobmanagement</dt><dd>-0.178760129394029</dd><dt>jobretired</dt><dd>0.343247007299442</dd><dt>jobself-employed</dt><dd>-0.27214219403447</dd><dt>jobservices</dt><dd>-0.209261470625055</dd><dt>jobstudent</dt><dd>0.632613861004164</dd><dt>jobtechnician</dt><dd>-0.161107714692833</dd><dt>jobunemployed</dt><dd>-0.021622860650573</dd><dt>jobunknown</dt><dd>-0.839342914901805</dd><dt>educationsecondary</dt><dd>0.355223700043396</dd><dt>educationtertiary</dt><dd>0.567414012827138</dd><dt>educationunknown</dt><dd>0.388076731936474</dd><dt>balance</dt><dd>3.80257559369687e-05</dd><dt>housingyes</dt><dd>-1.00428504310041</dd><dt>loanyes</dt><dd>-0.580671750492738</dd><dt>contacttelephone</dt><dd>0.015581032076421</dd><dt>contactunknown</dt><dd>-1.64282427630082</dd><dt>monthaug</dt><dd>-1.01445540380295</dd><dt>monthdec</dt><dd>1.11163808289653</dd><dt>monthfeb</dt><dd>-0.146316846034377</dd><dt>monthjan</dt><dd>-0.991725352047456</dd><dt>monthjul</dt><dd>-1.18195450374404</dd><dt>monthjun</dt><dd>0.195238489815</dd><dt>monthmar</dt><dd>2.33906645964936</dd><dt>monthmay</dt><dd>-0.637616130616651</dd><dt>monthnov</dt><dd>-1.1329147638876</dd><dt>monthoct</dt><dd>1.47520079865376</dd><dt>monthsep</dt><dd>0.648811715872504</dd><dt>duration</dt><dd>0.00605932764378086</dd><dt>campaign</dt><dd>-0.0838762700269328</dd><dt>poutcomeother</dt><dd>0.239085303943579</dd><dt>poutcomesuccess</dt><dd>2.42010546780908</dd><dt>poutcomeunknown</dt><dd>-0.372613701090472</dd></dl>\n"
      ],
      "text/latex": [
       "\\begin{description*}\n",
       "\\item[(Intercept)] -0.775960760925433\n",
       "\\item[jobblue-collar] -0.347873818803064\n",
       "\\item[jobentrepreneur] -0.32369607794374\n",
       "\\item[jobhousemaid] -0.196883102672698\n",
       "\\item[jobmanagement] -0.178760129394029\n",
       "\\item[jobretired] 0.343247007299442\n",
       "\\item[jobself-employed] -0.27214219403447\n",
       "\\item[jobservices] -0.209261470625055\n",
       "\\item[jobstudent] 0.632613861004164\n",
       "\\item[jobtechnician] -0.161107714692833\n",
       "\\item[jobunemployed] -0.021622860650573\n",
       "\\item[jobunknown] -0.839342914901805\n",
       "\\item[educationsecondary] 0.355223700043396\n",
       "\\item[educationtertiary] 0.567414012827138\n",
       "\\item[educationunknown] 0.388076731936474\n",
       "\\item[balance] 3.80257559369687e-05\n",
       "\\item[housingyes] -1.00428504310041\n",
       "\\item[loanyes] -0.580671750492738\n",
       "\\item[contacttelephone] 0.015581032076421\n",
       "\\item[contactunknown] -1.64282427630082\n",
       "\\item[monthaug] -1.01445540380295\n",
       "\\item[monthdec] 1.11163808289653\n",
       "\\item[monthfeb] -0.146316846034377\n",
       "\\item[monthjan] -0.991725352047456\n",
       "\\item[monthjul] -1.18195450374404\n",
       "\\item[monthjun] 0.195238489815\n",
       "\\item[monthmar] 2.33906645964936\n",
       "\\item[monthmay] -0.637616130616651\n",
       "\\item[monthnov] -1.1329147638876\n",
       "\\item[monthoct] 1.47520079865376\n",
       "\\item[monthsep] 0.648811715872504\n",
       "\\item[duration] 0.00605932764378086\n",
       "\\item[campaign] -0.0838762700269328\n",
       "\\item[poutcomeother] 0.239085303943579\n",
       "\\item[poutcomesuccess] 2.42010546780908\n",
       "\\item[poutcomeunknown] -0.372613701090472\n",
       "\\end{description*}\n"
      ],
      "text/markdown": [
       "(Intercept)\n",
       ":   -0.775960760925433jobblue-collar\n",
       ":   -0.347873818803064jobentrepreneur\n",
       ":   -0.32369607794374jobhousemaid\n",
       ":   -0.196883102672698jobmanagement\n",
       ":   -0.178760129394029jobretired\n",
       ":   0.343247007299442jobself-employed\n",
       ":   -0.27214219403447jobservices\n",
       ":   -0.209261470625055jobstudent\n",
       ":   0.632613861004164jobtechnician\n",
       ":   -0.161107714692833jobunemployed\n",
       ":   -0.021622860650573jobunknown\n",
       ":   -0.839342914901805educationsecondary\n",
       ":   0.355223700043396educationtertiary\n",
       ":   0.567414012827138educationunknown\n",
       ":   0.388076731936474balance\n",
       ":   3.80257559369687e-05housingyes\n",
       ":   -1.00428504310041loanyes\n",
       ":   -0.580671750492738contacttelephone\n",
       ":   0.015581032076421contactunknown\n",
       ":   -1.64282427630082monthaug\n",
       ":   -1.01445540380295monthdec\n",
       ":   1.11163808289653monthfeb\n",
       ":   -0.146316846034377monthjan\n",
       ":   -0.991725352047456monthjul\n",
       ":   -1.18195450374404monthjun\n",
       ":   0.195238489815monthmar\n",
       ":   2.33906645964936monthmay\n",
       ":   -0.637616130616651monthnov\n",
       ":   -1.1329147638876monthoct\n",
       ":   1.47520079865376monthsep\n",
       ":   0.648811715872504duration\n",
       ":   0.00605932764378086campaign\n",
       ":   -0.0838762700269328poutcomeother\n",
       ":   0.239085303943579poutcomesuccess\n",
       ":   2.42010546780908poutcomeunknown\n",
       ":   -0.372613701090472\n",
       "\n"
      ],
      "text/plain": [
       "       (Intercept)     jobblue-collar    jobentrepreneur       jobhousemaid \n",
       "     -7.759608e-01      -3.478738e-01      -3.236961e-01      -1.968831e-01 \n",
       "     jobmanagement         jobretired   jobself-employed        jobservices \n",
       "     -1.787601e-01       3.432470e-01      -2.721422e-01      -2.092615e-01 \n",
       "        jobstudent      jobtechnician      jobunemployed         jobunknown \n",
       "      6.326139e-01      -1.611077e-01      -2.162286e-02      -8.393429e-01 \n",
       "educationsecondary  educationtertiary   educationunknown            balance \n",
       "      3.552237e-01       5.674140e-01       3.880767e-01       3.802576e-05 \n",
       "        housingyes            loanyes   contacttelephone     contactunknown \n",
       "     -1.004285e+00      -5.806718e-01       1.558103e-02      -1.642824e+00 \n",
       "          monthaug           monthdec           monthfeb           monthjan \n",
       "     -1.014455e+00       1.111638e+00      -1.463168e-01      -9.917254e-01 \n",
       "          monthjul           monthjun           monthmar           monthmay \n",
       "     -1.181955e+00       1.952385e-01       2.339066e+00      -6.376161e-01 \n",
       "          monthnov           monthoct           monthsep           duration \n",
       "     -1.132915e+00       1.475201e+00       6.488117e-01       6.059328e-03 \n",
       "          campaign      poutcomeother    poutcomesuccess    poutcomeunknown \n",
       "     -8.387627e-02       2.390853e-01       2.420105e+00      -3.726137e-01 "
      ]
     },
     "metadata": {},
     "output_type": "display_data"
    },
    {
     "data": {
      "text/html": [
       "36"
      ],
      "text/latex": [
       "36"
      ],
      "text/markdown": [
       "36"
      ],
      "text/plain": [
       "[1] 36"
      ]
     },
     "metadata": {},
     "output_type": "display_data"
    }
   ],
   "source": [
    "(coef(model_glm2))\n",
    "length(coef(model_glm2))"
   ]
  },
  {
   "cell_type": "code",
   "execution_count": 31,
   "id": "8340a398",
   "metadata": {},
   "outputs": [
    {
     "data": {
      "text/plain": [
       "Wald test:\n",
       "----------\n",
       "\n",
       "Chi-squared test:\n",
       "X2 = 1831.0, df = 42, P(> X2) = 0.0"
      ]
     },
     "metadata": {},
     "output_type": "display_data"
    }
   ],
   "source": [
    "wald.test(b=coef(model_glm), Sigma = vcov(model_glm), Terms=2:length(coef(model_glm)))"
   ]
  },
  {
   "cell_type": "code",
   "execution_count": 32,
   "id": "43ae5678",
   "metadata": {},
   "outputs": [
    {
     "data": {
      "text/plain": [
       "Wald test:\n",
       "----------\n",
       "\n",
       "Chi-squared test:\n",
       "X2 = 1829.6, df = 35, P(> X2) = 0.0"
      ]
     },
     "metadata": {},
     "output_type": "display_data"
    }
   ],
   "source": [
    "wald.test(b=coef(model_glm2), Sigma = vcov(model_glm2), Terms=2:length(coef(model_glm2)))"
   ]
  },
  {
   "cell_type": "code",
   "execution_count": 33,
   "id": "01b352da",
   "metadata": {},
   "outputs": [
    {
     "name": "stderr",
     "output_type": "stream",
     "text": [
      "Waiting for profiling to be done...\n",
      "\n",
      "Warning message:\n",
      "\"glm.fit: algorithm did not converge\"\n",
      "Warning message:\n",
      "\"glm.fit: algorithm did not converge\"\n",
      "Warning message:\n",
      "\"glm.fit: algorithm did not converge\"\n",
      "Warning message:\n",
      "\"glm.fit: algorithm did not converge\"\n",
      "Warning message:\n",
      "\"glm.fit: algorithm did not converge\"\n",
      "Warning message:\n",
      "\"glm.fit: algorithm did not converge\"\n",
      "Warning message:\n",
      "\"glm.fit: algorithm did not converge\"\n",
      "Warning message:\n",
      "\"glm.fit: algorithm did not converge\"\n",
      "Warning message:\n",
      "\"glm.fit: algorithm did not converge\"\n",
      "Warning message:\n",
      "\"glm.fit: algorithm did not converge\"\n",
      "Warning message:\n",
      "\"glm.fit: algorithm did not converge\"\n",
      "Warning message:\n",
      "\"glm.fit: algorithm did not converge\"\n",
      "Warning message:\n",
      "\"glm.fit: algorithm did not converge\"\n",
      "Warning message:\n",
      "\"glm.fit: algorithm did not converge\"\n",
      "Warning message:\n",
      "\"glm.fit: algorithm did not converge\"\n",
      "Warning message:\n",
      "\"glm.fit: algorithm did not converge\"\n",
      "Warning message:\n",
      "\"glm.fit: algorithm did not converge\"\n",
      "Warning message:\n",
      "\"glm.fit: algorithm did not converge\"\n",
      "Warning message:\n",
      "\"glm.fit: algorithm did not converge\"\n",
      "Warning message:\n",
      "\"glm.fit: algorithm did not converge\"\n",
      "Warning message:\n",
      "\"glm.fit: algorithm did not converge\"\n",
      "Warning message:\n",
      "\"glm.fit: algorithm did not converge\"\n",
      "Warning message:\n",
      "\"glm.fit: algorithm did not converge\"\n",
      "Warning message:\n",
      "\"glm.fit: algorithm did not converge\"\n",
      "Warning message:\n",
      "\"glm.fit: algorithm did not converge\"\n",
      "Warning message:\n",
      "\"glm.fit: algorithm did not converge\"\n",
      "Warning message:\n",
      "\"glm.fit: algorithm did not converge\"\n",
      "Warning message:\n",
      "\"glm.fit: algorithm did not converge\"\n",
      "Warning message:\n",
      "\"glm.fit: algorithm did not converge\"\n",
      "Warning message:\n",
      "\"glm.fit: algorithm did not converge\"\n",
      "Warning message:\n",
      "\"glm.fit: algorithm did not converge\"\n",
      "Warning message:\n",
      "\"glm.fit: algorithm did not converge\"\n",
      "Warning message:\n",
      "\"glm.fit: algorithm did not converge\"\n",
      "Warning message:\n",
      "\"glm.fit: algorithm did not converge\"\n",
      "Warning message:\n",
      "\"glm.fit: algorithm did not converge\"\n",
      "Warning message:\n",
      "\"glm.fit: algorithm did not converge\"\n",
      "Warning message:\n",
      "\"glm.fit: algorithm did not converge\"\n",
      "Warning message:\n",
      "\"glm.fit: algorithm did not converge\"\n",
      "Warning message:\n",
      "\"glm.fit: algorithm did not converge\"\n",
      "Warning message:\n",
      "\"glm.fit: algorithm did not converge\"\n",
      "Warning message:\n",
      "\"glm.fit: algorithm did not converge\"\n",
      "Warning message:\n",
      "\"glm.fit: algorithm did not converge\"\n",
      "Warning message:\n",
      "\"glm.fit: algorithm did not converge\"\n",
      "Warning message:\n",
      "\"glm.fit: algorithm did not converge\"\n",
      "Warning message:\n",
      "\"glm.fit: algorithm did not converge\"\n",
      "Warning message:\n",
      "\"glm.fit: algorithm did not converge\"\n",
      "Warning message:\n",
      "\"glm.fit: algorithm did not converge\"\n",
      "Warning message:\n",
      "\"glm.fit: algorithm did not converge\"\n",
      "Warning message:\n",
      "\"glm.fit: algorithm did not converge\"\n",
      "Warning message:\n",
      "\"glm.fit: algorithm did not converge\"\n",
      "Warning message:\n",
      "\"glm.fit: algorithm did not converge\"\n"
     ]
    },
    {
     "data": {
      "text/html": [
       "<table class=\"dataframe\">\n",
       "<caption>A matrix: 36 × 3 of type dbl</caption>\n",
       "<thead>\n",
       "\t<tr><th></th><th scope=col>OR</th><th scope=col>2.5 %</th><th scope=col>97.5 %</th></tr>\n",
       "</thead>\n",
       "<tbody>\n",
       "\t<tr><th scope=row>(Intercept)</th><td> 0.4602614</td><td>0.3051157</td><td> 0.6933242</td></tr>\n",
       "\t<tr><th scope=row>jobblue-collar</th><td> 0.7061880</td><td>0.5415879</td><td> 0.9205711</td></tr>\n",
       "\t<tr><th scope=row>jobentrepreneur</th><td> 0.7234701</td><td>0.4639101</td><td> 1.1211024</td></tr>\n",
       "\t<tr><th scope=row>jobhousemaid</th><td> 0.8212866</td><td>0.5124848</td><td> 1.3071042</td></tr>\n",
       "\t<tr><th scope=row>jobmanagement</th><td> 0.8363065</td><td>0.6359170</td><td> 1.0996600</td></tr>\n",
       "\t<tr><th scope=row>jobretired</th><td> 1.4095169</td><td>1.0111136</td><td> 1.9682329</td></tr>\n",
       "\t<tr><th scope=row>jobself-employed</th><td> 0.7617459</td><td>0.5048727</td><td> 1.1465045</td></tr>\n",
       "\t<tr><th scope=row>jobservices</th><td> 0.8111831</td><td>0.5932158</td><td> 1.1075470</td></tr>\n",
       "\t<tr><th scope=row>jobstudent</th><td> 1.8825248</td><td>1.2464186</td><td> 2.8623355</td></tr>\n",
       "\t<tr><th scope=row>jobtechnician</th><td> 0.8512004</td><td>0.6616975</td><td> 1.0949944</td></tr>\n",
       "\t<tr><th scope=row>jobunemployed</th><td> 0.9786092</td><td>0.6433643</td><td> 1.4864663</td></tr>\n",
       "\t<tr><th scope=row>jobunknown</th><td> 0.4319943</td><td>0.1776403</td><td> 1.0279564</td></tr>\n",
       "\t<tr><th scope=row>educationsecondary</th><td> 1.4264997</td><td>1.1342859</td><td> 1.7968644</td></tr>\n",
       "\t<tr><th scope=row>educationtertiary</th><td> 1.7637002</td><td>1.3448879</td><td> 2.3166539</td></tr>\n",
       "\t<tr><th scope=row>educationunknown</th><td> 1.4741429</td><td>1.0027253</td><td> 2.1684521</td></tr>\n",
       "\t<tr><th scope=row>balance</th><td> 1.0000380</td><td>1.0000151</td><td> 1.0000613</td></tr>\n",
       "\t<tr><th scope=row>housingyes</th><td> 0.3663064</td><td>0.3124938</td><td> 0.4288600</td></tr>\n",
       "\t<tr><th scope=row>loanyes</th><td> 0.5595224</td><td>0.4525016</td><td> 0.6901335</td></tr>\n",
       "\t<tr><th scope=row>contacttelephone</th><td> 1.0157030</td><td>0.7730873</td><td> 1.3329723</td></tr>\n",
       "\t<tr><th scope=row>contactunknown</th><td> 0.1934330</td><td>0.1516498</td><td> 0.2458157</td></tr>\n",
       "\t<tr><th scope=row>monthaug</th><td> 0.3625998</td><td>0.2738711</td><td> 0.4791301</td></tr>\n",
       "\t<tr><th scope=row>monthdec</th><td> 3.0393330</td><td>1.2549571</td><td> 8.4040772</td></tr>\n",
       "\t<tr><th scope=row>monthfeb</th><td> 0.8638839</td><td>0.6329915</td><td> 1.1781367</td></tr>\n",
       "\t<tr><th scope=row>monthjan</th><td> 0.3709361</td><td>0.2395310</td><td> 0.5723346</td></tr>\n",
       "\t<tr><th scope=row>monthjul</th><td> 0.3066787</td><td>0.2303887</td><td> 0.4073132</td></tr>\n",
       "\t<tr><th scope=row>monthjun</th><td> 1.2156009</td><td>0.8809080</td><td> 1.6792576</td></tr>\n",
       "\t<tr><th scope=row>monthmar</th><td>10.3715498</td><td>5.5670423</td><td>20.9806946</td></tr>\n",
       "\t<tr><th scope=row>monthmay</th><td> 0.5285509</td><td>0.4026770</td><td> 0.6928616</td></tr>\n",
       "\t<tr><th scope=row>monthnov</th><td> 0.3220931</td><td>0.2368611</td><td> 0.4368581</td></tr>\n",
       "\t<tr><th scope=row>monthoct</th><td> 4.3719136</td><td>2.7505398</td><td> 7.0862295</td></tr>\n",
       "\t<tr><th scope=row>monthsep</th><td> 1.9132660</td><td>1.1767410</td><td> 3.1801558</td></tr>\n",
       "\t<tr><th scope=row>duration</th><td> 1.0060777</td><td>1.0057435</td><td> 1.0064221</td></tr>\n",
       "\t<tr><th scope=row>campaign</th><td> 0.9195450</td><td>0.8903126</td><td> 0.9489642</td></tr>\n",
       "\t<tr><th scope=row>poutcomeother</th><td> 1.2700869</td><td>0.8970135</td><td> 1.8014516</td></tr>\n",
       "\t<tr><th scope=row>poutcomesuccess</th><td>11.2470455</td><td>7.8387267</td><td>16.4216386</td></tr>\n",
       "\t<tr><th scope=row>poutcomeunknown</th><td> 0.6889313</td><td>0.5589126</td><td> 0.8490520</td></tr>\n",
       "</tbody>\n",
       "</table>\n"
      ],
      "text/latex": [
       "A matrix: 36 × 3 of type dbl\n",
       "\\begin{tabular}{r|lll}\n",
       "  & OR & 2.5 \\% & 97.5 \\%\\\\\n",
       "\\hline\n",
       "\t(Intercept) &  0.4602614 & 0.3051157 &  0.6933242\\\\\n",
       "\tjobblue-collar &  0.7061880 & 0.5415879 &  0.9205711\\\\\n",
       "\tjobentrepreneur &  0.7234701 & 0.4639101 &  1.1211024\\\\\n",
       "\tjobhousemaid &  0.8212866 & 0.5124848 &  1.3071042\\\\\n",
       "\tjobmanagement &  0.8363065 & 0.6359170 &  1.0996600\\\\\n",
       "\tjobretired &  1.4095169 & 1.0111136 &  1.9682329\\\\\n",
       "\tjobself-employed &  0.7617459 & 0.5048727 &  1.1465045\\\\\n",
       "\tjobservices &  0.8111831 & 0.5932158 &  1.1075470\\\\\n",
       "\tjobstudent &  1.8825248 & 1.2464186 &  2.8623355\\\\\n",
       "\tjobtechnician &  0.8512004 & 0.6616975 &  1.0949944\\\\\n",
       "\tjobunemployed &  0.9786092 & 0.6433643 &  1.4864663\\\\\n",
       "\tjobunknown &  0.4319943 & 0.1776403 &  1.0279564\\\\\n",
       "\teducationsecondary &  1.4264997 & 1.1342859 &  1.7968644\\\\\n",
       "\teducationtertiary &  1.7637002 & 1.3448879 &  2.3166539\\\\\n",
       "\teducationunknown &  1.4741429 & 1.0027253 &  2.1684521\\\\\n",
       "\tbalance &  1.0000380 & 1.0000151 &  1.0000613\\\\\n",
       "\thousingyes &  0.3663064 & 0.3124938 &  0.4288600\\\\\n",
       "\tloanyes &  0.5595224 & 0.4525016 &  0.6901335\\\\\n",
       "\tcontacttelephone &  1.0157030 & 0.7730873 &  1.3329723\\\\\n",
       "\tcontactunknown &  0.1934330 & 0.1516498 &  0.2458157\\\\\n",
       "\tmonthaug &  0.3625998 & 0.2738711 &  0.4791301\\\\\n",
       "\tmonthdec &  3.0393330 & 1.2549571 &  8.4040772\\\\\n",
       "\tmonthfeb &  0.8638839 & 0.6329915 &  1.1781367\\\\\n",
       "\tmonthjan &  0.3709361 & 0.2395310 &  0.5723346\\\\\n",
       "\tmonthjul &  0.3066787 & 0.2303887 &  0.4073132\\\\\n",
       "\tmonthjun &  1.2156009 & 0.8809080 &  1.6792576\\\\\n",
       "\tmonthmar & 10.3715498 & 5.5670423 & 20.9806946\\\\\n",
       "\tmonthmay &  0.5285509 & 0.4026770 &  0.6928616\\\\\n",
       "\tmonthnov &  0.3220931 & 0.2368611 &  0.4368581\\\\\n",
       "\tmonthoct &  4.3719136 & 2.7505398 &  7.0862295\\\\\n",
       "\tmonthsep &  1.9132660 & 1.1767410 &  3.1801558\\\\\n",
       "\tduration &  1.0060777 & 1.0057435 &  1.0064221\\\\\n",
       "\tcampaign &  0.9195450 & 0.8903126 &  0.9489642\\\\\n",
       "\tpoutcomeother &  1.2700869 & 0.8970135 &  1.8014516\\\\\n",
       "\tpoutcomesuccess & 11.2470455 & 7.8387267 & 16.4216386\\\\\n",
       "\tpoutcomeunknown &  0.6889313 & 0.5589126 &  0.8490520\\\\\n",
       "\\end{tabular}\n"
      ],
      "text/markdown": [
       "\n",
       "A matrix: 36 × 3 of type dbl\n",
       "\n",
       "| <!--/--> | OR | 2.5 % | 97.5 % |\n",
       "|---|---|---|---|\n",
       "| (Intercept) |  0.4602614 | 0.3051157 |  0.6933242 |\n",
       "| jobblue-collar |  0.7061880 | 0.5415879 |  0.9205711 |\n",
       "| jobentrepreneur |  0.7234701 | 0.4639101 |  1.1211024 |\n",
       "| jobhousemaid |  0.8212866 | 0.5124848 |  1.3071042 |\n",
       "| jobmanagement |  0.8363065 | 0.6359170 |  1.0996600 |\n",
       "| jobretired |  1.4095169 | 1.0111136 |  1.9682329 |\n",
       "| jobself-employed |  0.7617459 | 0.5048727 |  1.1465045 |\n",
       "| jobservices |  0.8111831 | 0.5932158 |  1.1075470 |\n",
       "| jobstudent |  1.8825248 | 1.2464186 |  2.8623355 |\n",
       "| jobtechnician |  0.8512004 | 0.6616975 |  1.0949944 |\n",
       "| jobunemployed |  0.9786092 | 0.6433643 |  1.4864663 |\n",
       "| jobunknown |  0.4319943 | 0.1776403 |  1.0279564 |\n",
       "| educationsecondary |  1.4264997 | 1.1342859 |  1.7968644 |\n",
       "| educationtertiary |  1.7637002 | 1.3448879 |  2.3166539 |\n",
       "| educationunknown |  1.4741429 | 1.0027253 |  2.1684521 |\n",
       "| balance |  1.0000380 | 1.0000151 |  1.0000613 |\n",
       "| housingyes |  0.3663064 | 0.3124938 |  0.4288600 |\n",
       "| loanyes |  0.5595224 | 0.4525016 |  0.6901335 |\n",
       "| contacttelephone |  1.0157030 | 0.7730873 |  1.3329723 |\n",
       "| contactunknown |  0.1934330 | 0.1516498 |  0.2458157 |\n",
       "| monthaug |  0.3625998 | 0.2738711 |  0.4791301 |\n",
       "| monthdec |  3.0393330 | 1.2549571 |  8.4040772 |\n",
       "| monthfeb |  0.8638839 | 0.6329915 |  1.1781367 |\n",
       "| monthjan |  0.3709361 | 0.2395310 |  0.5723346 |\n",
       "| monthjul |  0.3066787 | 0.2303887 |  0.4073132 |\n",
       "| monthjun |  1.2156009 | 0.8809080 |  1.6792576 |\n",
       "| monthmar | 10.3715498 | 5.5670423 | 20.9806946 |\n",
       "| monthmay |  0.5285509 | 0.4026770 |  0.6928616 |\n",
       "| monthnov |  0.3220931 | 0.2368611 |  0.4368581 |\n",
       "| monthoct |  4.3719136 | 2.7505398 |  7.0862295 |\n",
       "| monthsep |  1.9132660 | 1.1767410 |  3.1801558 |\n",
       "| duration |  1.0060777 | 1.0057435 |  1.0064221 |\n",
       "| campaign |  0.9195450 | 0.8903126 |  0.9489642 |\n",
       "| poutcomeother |  1.2700869 | 0.8970135 |  1.8014516 |\n",
       "| poutcomesuccess | 11.2470455 | 7.8387267 | 16.4216386 |\n",
       "| poutcomeunknown |  0.6889313 | 0.5589126 |  0.8490520 |\n",
       "\n"
      ],
      "text/plain": [
       "                   OR         2.5 %     97.5 %    \n",
       "(Intercept)         0.4602614 0.3051157  0.6933242\n",
       "jobblue-collar      0.7061880 0.5415879  0.9205711\n",
       "jobentrepreneur     0.7234701 0.4639101  1.1211024\n",
       "jobhousemaid        0.8212866 0.5124848  1.3071042\n",
       "jobmanagement       0.8363065 0.6359170  1.0996600\n",
       "jobretired          1.4095169 1.0111136  1.9682329\n",
       "jobself-employed    0.7617459 0.5048727  1.1465045\n",
       "jobservices         0.8111831 0.5932158  1.1075470\n",
       "jobstudent          1.8825248 1.2464186  2.8623355\n",
       "jobtechnician       0.8512004 0.6616975  1.0949944\n",
       "jobunemployed       0.9786092 0.6433643  1.4864663\n",
       "jobunknown          0.4319943 0.1776403  1.0279564\n",
       "educationsecondary  1.4264997 1.1342859  1.7968644\n",
       "educationtertiary   1.7637002 1.3448879  2.3166539\n",
       "educationunknown    1.4741429 1.0027253  2.1684521\n",
       "balance             1.0000380 1.0000151  1.0000613\n",
       "housingyes          0.3663064 0.3124938  0.4288600\n",
       "loanyes             0.5595224 0.4525016  0.6901335\n",
       "contacttelephone    1.0157030 0.7730873  1.3329723\n",
       "contactunknown      0.1934330 0.1516498  0.2458157\n",
       "monthaug            0.3625998 0.2738711  0.4791301\n",
       "monthdec            3.0393330 1.2549571  8.4040772\n",
       "monthfeb            0.8638839 0.6329915  1.1781367\n",
       "monthjan            0.3709361 0.2395310  0.5723346\n",
       "monthjul            0.3066787 0.2303887  0.4073132\n",
       "monthjun            1.2156009 0.8809080  1.6792576\n",
       "monthmar           10.3715498 5.5670423 20.9806946\n",
       "monthmay            0.5285509 0.4026770  0.6928616\n",
       "monthnov            0.3220931 0.2368611  0.4368581\n",
       "monthoct            4.3719136 2.7505398  7.0862295\n",
       "monthsep            1.9132660 1.1767410  3.1801558\n",
       "duration            1.0060777 1.0057435  1.0064221\n",
       "campaign            0.9195450 0.8903126  0.9489642\n",
       "poutcomeother       1.2700869 0.8970135  1.8014516\n",
       "poutcomesuccess    11.2470455 7.8387267 16.4216386\n",
       "poutcomeunknown     0.6889313 0.5589126  0.8490520"
      ]
     },
     "metadata": {},
     "output_type": "display_data"
    }
   ],
   "source": [
    "#importance of a predictor variable on the response(Odds Ratio)\n",
    "exp(cbind(OR = coef(model_glm2), confint(model_glm2)))"
   ]
  },
  {
   "cell_type": "code",
   "execution_count": 34,
   "id": "dfa604ab",
   "metadata": {},
   "outputs": [
    {
     "data": {
      "text/html": [
       "<table class=\"dataframe\">\n",
       "<caption>A data.frame: 35 × 1</caption>\n",
       "<thead>\n",
       "\t<tr><th></th><th scope=col>Overall</th></tr>\n",
       "\t<tr><th></th><th scope=col>&lt;dbl&gt;</th></tr>\n",
       "</thead>\n",
       "<tbody>\n",
       "\t<tr><th scope=row>jobblue-collar</th><td> 2.5711430</td></tr>\n",
       "\t<tr><th scope=row>jobentrepreneur</th><td> 1.4388225</td></tr>\n",
       "\t<tr><th scope=row>jobhousemaid</th><td> 0.8247493</td></tr>\n",
       "\t<tr><th scope=row>jobmanagement</th><td> 1.2797235</td></tr>\n",
       "\t<tr><th scope=row>jobretired</th><td> 2.0205914</td></tr>\n",
       "\t<tr><th scope=row>jobself-employed</th><td> 1.3012241</td></tr>\n",
       "\t<tr><th scope=row>jobservices</th><td> 1.3141893</td></tr>\n",
       "\t<tr><th scope=row>jobstudent</th><td> 2.9850142</td></tr>\n",
       "\t<tr><th scope=row>jobtechnician</th><td> 1.2540718</td></tr>\n",
       "\t<tr><th scope=row>jobunemployed</th><td> 0.1012616</td></tr>\n",
       "\t<tr><th scope=row>jobunknown</th><td> 1.8762821</td></tr>\n",
       "\t<tr><th scope=row>educationsecondary</th><td> 3.0276045</td></tr>\n",
       "\t<tr><th scope=row>educationtertiary</th><td> 4.0910166</td></tr>\n",
       "\t<tr><th scope=row>educationunknown</th><td> 1.9731154</td></tr>\n",
       "\t<tr><th scope=row>balance</th><td> 3.2250006</td></tr>\n",
       "\t<tr><th scope=row>housingyes</th><td>12.4389870</td></tr>\n",
       "\t<tr><th scope=row>loanyes</th><td> 5.3941075</td></tr>\n",
       "\t<tr><th scope=row>contacttelephone</th><td> 0.1121558</td></tr>\n",
       "\t<tr><th scope=row>contactunknown</th><td>13.3365558</td></tr>\n",
       "\t<tr><th scope=row>monthaug</th><td> 7.1116417</td></tr>\n",
       "\t<tr><th scope=row>monthdec</th><td> 2.3131121</td></tr>\n",
       "\t<tr><th scope=row>monthfeb</th><td> 0.9235340</td></tr>\n",
       "\t<tr><th scope=row>monthjan</th><td> 4.4661445</td></tr>\n",
       "\t<tr><th scope=row>monthjul</th><td> 8.1330696</td></tr>\n",
       "\t<tr><th scope=row>monthjun</th><td> 1.1866510</td></tr>\n",
       "\t<tr><th scope=row>monthmar</th><td> 6.9614733</td></tr>\n",
       "\t<tr><th scope=row>monthmay</th><td> 4.6067462</td></tr>\n",
       "\t<tr><th scope=row>monthnov</th><td> 7.2567285</td></tr>\n",
       "\t<tr><th scope=row>monthoct</th><td> 6.1192262</td></tr>\n",
       "\t<tr><th scope=row>monthsep</th><td> 2.5633023</td></tr>\n",
       "\t<tr><th scope=row>duration</th><td>35.2170932</td></tr>\n",
       "\t<tr><th scope=row>campaign</th><td> 5.1536788</td></tr>\n",
       "\t<tr><th scope=row>poutcomeother</th><td> 1.3446252</td></tr>\n",
       "\t<tr><th scope=row>poutcomesuccess</th><td>12.8470914</td></tr>\n",
       "\t<tr><th scope=row>poutcomeunknown</th><td> 3.4942158</td></tr>\n",
       "</tbody>\n",
       "</table>\n"
      ],
      "text/latex": [
       "A data.frame: 35 × 1\n",
       "\\begin{tabular}{r|l}\n",
       "  & Overall\\\\\n",
       "  & <dbl>\\\\\n",
       "\\hline\n",
       "\tjobblue-collar &  2.5711430\\\\\n",
       "\tjobentrepreneur &  1.4388225\\\\\n",
       "\tjobhousemaid &  0.8247493\\\\\n",
       "\tjobmanagement &  1.2797235\\\\\n",
       "\tjobretired &  2.0205914\\\\\n",
       "\tjobself-employed &  1.3012241\\\\\n",
       "\tjobservices &  1.3141893\\\\\n",
       "\tjobstudent &  2.9850142\\\\\n",
       "\tjobtechnician &  1.2540718\\\\\n",
       "\tjobunemployed &  0.1012616\\\\\n",
       "\tjobunknown &  1.8762821\\\\\n",
       "\teducationsecondary &  3.0276045\\\\\n",
       "\teducationtertiary &  4.0910166\\\\\n",
       "\teducationunknown &  1.9731154\\\\\n",
       "\tbalance &  3.2250006\\\\\n",
       "\thousingyes & 12.4389870\\\\\n",
       "\tloanyes &  5.3941075\\\\\n",
       "\tcontacttelephone &  0.1121558\\\\\n",
       "\tcontactunknown & 13.3365558\\\\\n",
       "\tmonthaug &  7.1116417\\\\\n",
       "\tmonthdec &  2.3131121\\\\\n",
       "\tmonthfeb &  0.9235340\\\\\n",
       "\tmonthjan &  4.4661445\\\\\n",
       "\tmonthjul &  8.1330696\\\\\n",
       "\tmonthjun &  1.1866510\\\\\n",
       "\tmonthmar &  6.9614733\\\\\n",
       "\tmonthmay &  4.6067462\\\\\n",
       "\tmonthnov &  7.2567285\\\\\n",
       "\tmonthoct &  6.1192262\\\\\n",
       "\tmonthsep &  2.5633023\\\\\n",
       "\tduration & 35.2170932\\\\\n",
       "\tcampaign &  5.1536788\\\\\n",
       "\tpoutcomeother &  1.3446252\\\\\n",
       "\tpoutcomesuccess & 12.8470914\\\\\n",
       "\tpoutcomeunknown &  3.4942158\\\\\n",
       "\\end{tabular}\n"
      ],
      "text/markdown": [
       "\n",
       "A data.frame: 35 × 1\n",
       "\n",
       "| <!--/--> | Overall &lt;dbl&gt; |\n",
       "|---|---|\n",
       "| jobblue-collar |  2.5711430 |\n",
       "| jobentrepreneur |  1.4388225 |\n",
       "| jobhousemaid |  0.8247493 |\n",
       "| jobmanagement |  1.2797235 |\n",
       "| jobretired |  2.0205914 |\n",
       "| jobself-employed |  1.3012241 |\n",
       "| jobservices |  1.3141893 |\n",
       "| jobstudent |  2.9850142 |\n",
       "| jobtechnician |  1.2540718 |\n",
       "| jobunemployed |  0.1012616 |\n",
       "| jobunknown |  1.8762821 |\n",
       "| educationsecondary |  3.0276045 |\n",
       "| educationtertiary |  4.0910166 |\n",
       "| educationunknown |  1.9731154 |\n",
       "| balance |  3.2250006 |\n",
       "| housingyes | 12.4389870 |\n",
       "| loanyes |  5.3941075 |\n",
       "| contacttelephone |  0.1121558 |\n",
       "| contactunknown | 13.3365558 |\n",
       "| monthaug |  7.1116417 |\n",
       "| monthdec |  2.3131121 |\n",
       "| monthfeb |  0.9235340 |\n",
       "| monthjan |  4.4661445 |\n",
       "| monthjul |  8.1330696 |\n",
       "| monthjun |  1.1866510 |\n",
       "| monthmar |  6.9614733 |\n",
       "| monthmay |  4.6067462 |\n",
       "| monthnov |  7.2567285 |\n",
       "| monthoct |  6.1192262 |\n",
       "| monthsep |  2.5633023 |\n",
       "| duration | 35.2170932 |\n",
       "| campaign |  5.1536788 |\n",
       "| poutcomeother |  1.3446252 |\n",
       "| poutcomesuccess | 12.8470914 |\n",
       "| poutcomeunknown |  3.4942158 |\n",
       "\n"
      ],
      "text/plain": [
       "                   Overall   \n",
       "jobblue-collar      2.5711430\n",
       "jobentrepreneur     1.4388225\n",
       "jobhousemaid        0.8247493\n",
       "jobmanagement       1.2797235\n",
       "jobretired          2.0205914\n",
       "jobself-employed    1.3012241\n",
       "jobservices         1.3141893\n",
       "jobstudent          2.9850142\n",
       "jobtechnician       1.2540718\n",
       "jobunemployed       0.1012616\n",
       "jobunknown          1.8762821\n",
       "educationsecondary  3.0276045\n",
       "educationtertiary   4.0910166\n",
       "educationunknown    1.9731154\n",
       "balance             3.2250006\n",
       "housingyes         12.4389870\n",
       "loanyes             5.3941075\n",
       "contacttelephone    0.1121558\n",
       "contactunknown     13.3365558\n",
       "monthaug            7.1116417\n",
       "monthdec            2.3131121\n",
       "monthfeb            0.9235340\n",
       "monthjan            4.4661445\n",
       "monthjul            8.1330696\n",
       "monthjun            1.1866510\n",
       "monthmar            6.9614733\n",
       "monthmay            4.6067462\n",
       "monthnov            7.2567285\n",
       "monthoct            6.1192262\n",
       "monthsep            2.5633023\n",
       "duration           35.2170932\n",
       "campaign            5.1536788\n",
       "poutcomeother       1.3446252\n",
       "poutcomesuccess    12.8470914\n",
       "poutcomeunknown     3.4942158"
      ]
     },
     "metadata": {},
     "output_type": "display_data"
    }
   ],
   "source": [
    "varImp(model_glm2)"
   ]
  },
  {
   "cell_type": "code",
   "execution_count": 35,
   "id": "d588398a",
   "metadata": {},
   "outputs": [
    {
     "data": {
      "image/png": "[encoded data removed]",
      "text/plain": [
       "plot without title"
      ]
     },
     "metadata": {
      "image/png": {
       "height": 420,
       "width": 420
      }
     },
     "output_type": "display_data"
    }
   ],
   "source": [
    "#Variable Importance (Relative Importance of variables)\n",
    "V = caret::varImp(model_glm2)\n",
    "\n",
    "ggplot2::ggplot(V, aes(x=reorder(rownames(V),Overall), y=Overall)) +\n",
    "geom_point( color=\"blue\", size=4, alpha=0.6)+\n",
    "geom_segment( aes(x=rownames(V), xend=rownames(V), y=0, yend=Overall), \n",
    "color='skyblue') +\n",
    "xlab('Variable')+\n",
    "ylab('Overall Importance')+\n",
    "theme_light() +\n",
    "coord_flip() "
   ]
  },
  {
   "cell_type": "code",
   "execution_count": 36,
   "id": "acf5ae35",
   "metadata": {},
   "outputs": [
    {
     "data": {
      "text/plain": [
       "      predicted\n",
       "actual    0    1\n",
       "   no  2989  511\n",
       "   yes  621 2879"
      ]
     },
     "metadata": {},
     "output_type": "display_data"
    }
   ],
   "source": [
    "actual <- data_downsampled_train$y\n",
    "predicted <- round(fitted(model_glm2))\n",
    "xt <- xtabs(~ actual + predicted)\n",
    "xt"
   ]
  },
  {
   "cell_type": "code",
   "execution_count": 37,
   "id": "d7882389",
   "metadata": {},
   "outputs": [
    {
     "data": {
      "text/html": [
       "0.838"
      ],
      "text/latex": [
       "0.838"
      ],
      "text/markdown": [
       "0.838"
      ],
      "text/plain": [
       "[1] 0.838"
      ]
     },
     "metadata": {},
     "output_type": "display_data"
    }
   ],
   "source": [
    "accuracy <- (xt[1,1]+xt[2,2])/sum(xt)\n",
    "round(accuracy,3)"
   ]
  },
  {
   "cell_type": "code",
   "execution_count": 38,
   "id": "585cf887",
   "metadata": {},
   "outputs": [],
   "source": [
    "library(caret) #For confusion matrix"
   ]
  },
  {
   "cell_type": "code",
   "execution_count": 39,
   "id": "40147249",
   "metadata": {},
   "outputs": [
    {
     "data": {
      "text/plain": [
       "Confusion Matrix and Statistics\n",
       "\n",
       "          Reference\n",
       "Prediction   no  yes\n",
       "       no  1267  252\n",
       "       yes  233 1248\n",
       "                                          \n",
       "               Accuracy : 0.8383          \n",
       "                 95% CI : (0.8247, 0.8513)\n",
       "    No Information Rate : 0.5             \n",
       "    P-Value [Acc > NIR] : <2e-16          \n",
       "                                          \n",
       "                  Kappa : 0.6767          \n",
       "                                          \n",
       " Mcnemar's Test P-Value : 0.4137          \n",
       "                                          \n",
       "            Sensitivity : 0.8447          \n",
       "            Specificity : 0.8320          \n",
       "         Pos Pred Value : 0.8341          \n",
       "         Neg Pred Value : 0.8427          \n",
       "             Prevalence : 0.5000          \n",
       "         Detection Rate : 0.4223          \n",
       "   Detection Prevalence : 0.5063          \n",
       "      Balanced Accuracy : 0.8383          \n",
       "                                          \n",
       "       'Positive' Class : no              \n",
       "                                          "
      ]
     },
     "metadata": {},
     "output_type": "display_data"
    }
   ],
   "source": [
    "confusionMatrix(as.factor(ifelse(predict(model_glm2,data_downsampled_test[,1:16], type='response')>0.5,'yes','no')),data_downsampled_test$y)"
   ]
  },
  {
   "cell_type": "code",
   "execution_count": 40,
   "id": "62520eee",
   "metadata": {},
   "outputs": [],
   "source": [
    "prediction_glm <- as.data.frame(predict(model_glm2,newdata=data_downsampled_test[,1:16],type=\"response\"))\n",
    "prediction_glm['y']<-data_downsampled_test$y\n",
    "colnames(prediction_glm)[1] <- 'Probability'"
   ]
  },
  {
   "cell_type": "code",
   "execution_count": 41,
   "id": "1c97e3c3",
   "metadata": {},
   "outputs": [],
   "source": [
    "prediction_glm<-prediction_glm[order(prediction_glm$Probability,decreasing=FALSE),]\n",
    "prediction_glm$rank<-1:nrow(prediction_glm)"
   ]
  },
  {
   "cell_type": "code",
   "execution_count": 42,
   "id": "21738db6",
   "metadata": {},
   "outputs": [
    {
     "data": {
      "image/png": "[encoded data removed]",
      "text/plain": [
       "plot without title"
      ]
     },
     "metadata": {
      "image/png": {
       "height": 420,
       "width": 420
      }
     },
     "output_type": "display_data"
    }
   ],
   "source": [
    "plot(prediction_glm$rank,prediction_glm$Probability,col = prediction_glm$y,pch = 3, lwd=5, xlab=\"Index\",ylab=\"Predicted Probability\")\n",
    "legend(\"bottomright\", legend=c(\"Bought\", \"Not Bought\"),col=c(\"red\", \"black\"), pch = 19, bty = \"n\")\n",
    "abline(h =0.5 , col=\"grey\", lwd=3, lty=2)"
   ]
  },
  {
   "cell_type": "code",
   "execution_count": 43,
   "id": "8408d01b",
   "metadata": {},
   "outputs": [
    {
     "data": {
      "image/png": "[encoded data removed]",
      "text/plain": [
       "Plot with title \"ROC Curve (Logistic Regression)\""
      ]
     },
     "metadata": {
      "image/png": {
       "height": 420,
       "width": 420
      }
     },
     "output_type": "display_data"
    }
   ],
   "source": [
    "library(ROCR)\n",
    "roc_glm <- prediction((predict(model_glm2,data_downsampled_test[,1:16],type='response')), data_downsampled_test$y)\n",
    "performance_glm <- performance(roc_glm, 'tpr','fpr')\n",
    "plot(performance_glm, colorize = FALSE, text.adj = c(-0.2,1.7),main=\"ROC Curve (Logistic Regression)\")\n",
    "abline(a=0,b=1,lwd=2,lty=2,col=\"grey\")"
   ]
  },
  {
   "cell_type": "code",
   "execution_count": 44,
   "id": "b10b7257",
   "metadata": {},
   "outputs": [
    {
     "data": {
      "text/html": [
       "'AUC = 0.907408444444444'"
      ],
      "text/latex": [
       "'AUC = 0.907408444444444'"
      ],
      "text/markdown": [
       "'AUC = 0.907408444444444'"
      ],
      "text/plain": [
       "[1] \"AUC = 0.907408444444444\""
      ]
     },
     "metadata": {},
     "output_type": "display_data"
    }
   ],
   "source": [
    "aucvalue_glm <- performance(roc_glm, measure = \"auc\")\n",
    "aucvalue_glm <- aucvalue_glm@y.values[[1]]\n",
    "paste('AUC =',aucvalue_glm)"
   ]
  }
 ],
 "metadata": {
  "kernelspec": {
   "display_name": "R 4.2.2",
   "language": "R",
   "name": "ir42"
  },
  "language_info": {
   "codemirror_mode": "r",
   "file_extension": ".r",
   "mimetype": "text/x-r-source",
   "name": "R",
   "pygments_lexer": "r",
   "version": "4.2.2"
  }
 },
 "nbformat": 4,
 "nbformat_minor": 5
}
